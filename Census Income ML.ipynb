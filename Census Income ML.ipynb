{
 "cells": [
  {
   "cell_type": "code",
   "execution_count": 1,
   "id": "ad7e2e73",
   "metadata": {},
   "outputs": [],
   "source": [
    "# import the libraries\n",
    "import pandas as pd\n",
    "import numpy as np\n",
    "import seaborn as sns\n",
    "import matplotlib.pyplot as plt\n",
    "import seaborn as sns"
   ]
  },
  {
   "cell_type": "code",
   "execution_count": 3,
   "id": "51786c44",
   "metadata": {},
   "outputs": [],
   "source": [
    "# import the files\n",
    "rawdf=pd.read_csv(\"C:\\\\Users\\\\15-R\\\\Documents\\\\Downloads\\\\census_income_data.csv\")"
   ]
  },
  {
   "cell_type": "code",
   "execution_count": 4,
   "id": "e8a6271d",
   "metadata": {},
   "outputs": [
    {
     "data": {
      "text/html": [
       "<div>\n",
       "<style scoped>\n",
       "    .dataframe tbody tr th:only-of-type {\n",
       "        vertical-align: middle;\n",
       "    }\n",
       "\n",
       "    .dataframe tbody tr th {\n",
       "        vertical-align: top;\n",
       "    }\n",
       "\n",
       "    .dataframe thead th {\n",
       "        text-align: right;\n",
       "    }\n",
       "</style>\n",
       "<table border=\"1\" class=\"dataframe\">\n",
       "  <thead>\n",
       "    <tr style=\"text-align: right;\">\n",
       "      <th></th>\n",
       "      <th>age</th>\n",
       "      <th>workclass</th>\n",
       "      <th>fnlwgt</th>\n",
       "      <th>education</th>\n",
       "      <th>education.num</th>\n",
       "      <th>marital.status</th>\n",
       "      <th>occupation</th>\n",
       "      <th>relationship</th>\n",
       "      <th>race</th>\n",
       "      <th>sex</th>\n",
       "      <th>capital.gain</th>\n",
       "      <th>capital.loss</th>\n",
       "      <th>hours.per.week</th>\n",
       "      <th>native.country</th>\n",
       "      <th>income</th>\n",
       "    </tr>\n",
       "  </thead>\n",
       "  <tbody>\n",
       "    <tr>\n",
       "      <th>0</th>\n",
       "      <td>90</td>\n",
       "      <td>?</td>\n",
       "      <td>77053</td>\n",
       "      <td>HS-grad</td>\n",
       "      <td>9</td>\n",
       "      <td>Widowed</td>\n",
       "      <td>?</td>\n",
       "      <td>Not-in-family</td>\n",
       "      <td>White</td>\n",
       "      <td>Female</td>\n",
       "      <td>0</td>\n",
       "      <td>4356</td>\n",
       "      <td>40</td>\n",
       "      <td>United-States</td>\n",
       "      <td>&lt;=50K</td>\n",
       "    </tr>\n",
       "    <tr>\n",
       "      <th>1</th>\n",
       "      <td>82</td>\n",
       "      <td>Private</td>\n",
       "      <td>132870</td>\n",
       "      <td>HS-grad</td>\n",
       "      <td>9</td>\n",
       "      <td>Widowed</td>\n",
       "      <td>Exec-managerial</td>\n",
       "      <td>Not-in-family</td>\n",
       "      <td>White</td>\n",
       "      <td>Female</td>\n",
       "      <td>0</td>\n",
       "      <td>4356</td>\n",
       "      <td>18</td>\n",
       "      <td>United-States</td>\n",
       "      <td>&lt;=50K</td>\n",
       "    </tr>\n",
       "    <tr>\n",
       "      <th>2</th>\n",
       "      <td>66</td>\n",
       "      <td>?</td>\n",
       "      <td>186061</td>\n",
       "      <td>Some-college</td>\n",
       "      <td>10</td>\n",
       "      <td>Widowed</td>\n",
       "      <td>?</td>\n",
       "      <td>Unmarried</td>\n",
       "      <td>Black</td>\n",
       "      <td>Female</td>\n",
       "      <td>0</td>\n",
       "      <td>4356</td>\n",
       "      <td>40</td>\n",
       "      <td>United-States</td>\n",
       "      <td>&lt;=50K</td>\n",
       "    </tr>\n",
       "    <tr>\n",
       "      <th>3</th>\n",
       "      <td>54</td>\n",
       "      <td>Private</td>\n",
       "      <td>140359</td>\n",
       "      <td>7th-8th</td>\n",
       "      <td>4</td>\n",
       "      <td>Divorced</td>\n",
       "      <td>Machine-op-inspct</td>\n",
       "      <td>Unmarried</td>\n",
       "      <td>White</td>\n",
       "      <td>Female</td>\n",
       "      <td>0</td>\n",
       "      <td>3900</td>\n",
       "      <td>40</td>\n",
       "      <td>United-States</td>\n",
       "      <td>&lt;=50K</td>\n",
       "    </tr>\n",
       "    <tr>\n",
       "      <th>4</th>\n",
       "      <td>41</td>\n",
       "      <td>Private</td>\n",
       "      <td>264663</td>\n",
       "      <td>Some-college</td>\n",
       "      <td>10</td>\n",
       "      <td>Separated</td>\n",
       "      <td>Prof-specialty</td>\n",
       "      <td>Own-child</td>\n",
       "      <td>White</td>\n",
       "      <td>Female</td>\n",
       "      <td>0</td>\n",
       "      <td>3900</td>\n",
       "      <td>40</td>\n",
       "      <td>United-States</td>\n",
       "      <td>&lt;=50K</td>\n",
       "    </tr>\n",
       "    <tr>\n",
       "      <th>...</th>\n",
       "      <td>...</td>\n",
       "      <td>...</td>\n",
       "      <td>...</td>\n",
       "      <td>...</td>\n",
       "      <td>...</td>\n",
       "      <td>...</td>\n",
       "      <td>...</td>\n",
       "      <td>...</td>\n",
       "      <td>...</td>\n",
       "      <td>...</td>\n",
       "      <td>...</td>\n",
       "      <td>...</td>\n",
       "      <td>...</td>\n",
       "      <td>...</td>\n",
       "      <td>...</td>\n",
       "    </tr>\n",
       "    <tr>\n",
       "      <th>32556</th>\n",
       "      <td>22</td>\n",
       "      <td>Private</td>\n",
       "      <td>310152</td>\n",
       "      <td>Some-college</td>\n",
       "      <td>10</td>\n",
       "      <td>Never-married</td>\n",
       "      <td>Protective-serv</td>\n",
       "      <td>Not-in-family</td>\n",
       "      <td>White</td>\n",
       "      <td>Male</td>\n",
       "      <td>0</td>\n",
       "      <td>0</td>\n",
       "      <td>40</td>\n",
       "      <td>United-States</td>\n",
       "      <td>&lt;=50K</td>\n",
       "    </tr>\n",
       "    <tr>\n",
       "      <th>32557</th>\n",
       "      <td>27</td>\n",
       "      <td>Private</td>\n",
       "      <td>257302</td>\n",
       "      <td>Assoc-acdm</td>\n",
       "      <td>12</td>\n",
       "      <td>Married-civ-spouse</td>\n",
       "      <td>Tech-support</td>\n",
       "      <td>Wife</td>\n",
       "      <td>White</td>\n",
       "      <td>Female</td>\n",
       "      <td>0</td>\n",
       "      <td>0</td>\n",
       "      <td>38</td>\n",
       "      <td>United-States</td>\n",
       "      <td>&lt;=50K</td>\n",
       "    </tr>\n",
       "    <tr>\n",
       "      <th>32558</th>\n",
       "      <td>40</td>\n",
       "      <td>Private</td>\n",
       "      <td>154374</td>\n",
       "      <td>HS-grad</td>\n",
       "      <td>9</td>\n",
       "      <td>Married-civ-spouse</td>\n",
       "      <td>Machine-op-inspct</td>\n",
       "      <td>Husband</td>\n",
       "      <td>White</td>\n",
       "      <td>Male</td>\n",
       "      <td>0</td>\n",
       "      <td>0</td>\n",
       "      <td>40</td>\n",
       "      <td>United-States</td>\n",
       "      <td>&gt;50K</td>\n",
       "    </tr>\n",
       "    <tr>\n",
       "      <th>32559</th>\n",
       "      <td>58</td>\n",
       "      <td>Private</td>\n",
       "      <td>151910</td>\n",
       "      <td>HS-grad</td>\n",
       "      <td>9</td>\n",
       "      <td>Widowed</td>\n",
       "      <td>Adm-clerical</td>\n",
       "      <td>Unmarried</td>\n",
       "      <td>White</td>\n",
       "      <td>Female</td>\n",
       "      <td>0</td>\n",
       "      <td>0</td>\n",
       "      <td>40</td>\n",
       "      <td>United-States</td>\n",
       "      <td>&lt;=50K</td>\n",
       "    </tr>\n",
       "    <tr>\n",
       "      <th>32560</th>\n",
       "      <td>22</td>\n",
       "      <td>Private</td>\n",
       "      <td>201490</td>\n",
       "      <td>HS-grad</td>\n",
       "      <td>9</td>\n",
       "      <td>Never-married</td>\n",
       "      <td>Adm-clerical</td>\n",
       "      <td>Own-child</td>\n",
       "      <td>White</td>\n",
       "      <td>Male</td>\n",
       "      <td>0</td>\n",
       "      <td>0</td>\n",
       "      <td>20</td>\n",
       "      <td>United-States</td>\n",
       "      <td>&lt;=50K</td>\n",
       "    </tr>\n",
       "  </tbody>\n",
       "</table>\n",
       "<p>32561 rows × 15 columns</p>\n",
       "</div>"
      ],
      "text/plain": [
       "       age workclass  fnlwgt     education  education.num      marital.status  \\\n",
       "0       90         ?   77053       HS-grad              9             Widowed   \n",
       "1       82   Private  132870       HS-grad              9             Widowed   \n",
       "2       66         ?  186061  Some-college             10             Widowed   \n",
       "3       54   Private  140359       7th-8th              4            Divorced   \n",
       "4       41   Private  264663  Some-college             10           Separated   \n",
       "...    ...       ...     ...           ...            ...                 ...   \n",
       "32556   22   Private  310152  Some-college             10       Never-married   \n",
       "32557   27   Private  257302    Assoc-acdm             12  Married-civ-spouse   \n",
       "32558   40   Private  154374       HS-grad              9  Married-civ-spouse   \n",
       "32559   58   Private  151910       HS-grad              9             Widowed   \n",
       "32560   22   Private  201490       HS-grad              9       Never-married   \n",
       "\n",
       "              occupation   relationship   race     sex  capital.gain  \\\n",
       "0                      ?  Not-in-family  White  Female             0   \n",
       "1        Exec-managerial  Not-in-family  White  Female             0   \n",
       "2                      ?      Unmarried  Black  Female             0   \n",
       "3      Machine-op-inspct      Unmarried  White  Female             0   \n",
       "4         Prof-specialty      Own-child  White  Female             0   \n",
       "...                  ...            ...    ...     ...           ...   \n",
       "32556    Protective-serv  Not-in-family  White    Male             0   \n",
       "32557       Tech-support           Wife  White  Female             0   \n",
       "32558  Machine-op-inspct        Husband  White    Male             0   \n",
       "32559       Adm-clerical      Unmarried  White  Female             0   \n",
       "32560       Adm-clerical      Own-child  White    Male             0   \n",
       "\n",
       "       capital.loss  hours.per.week native.country income  \n",
       "0              4356              40  United-States  <=50K  \n",
       "1              4356              18  United-States  <=50K  \n",
       "2              4356              40  United-States  <=50K  \n",
       "3              3900              40  United-States  <=50K  \n",
       "4              3900              40  United-States  <=50K  \n",
       "...             ...             ...            ...    ...  \n",
       "32556             0              40  United-States  <=50K  \n",
       "32557             0              38  United-States  <=50K  \n",
       "32558             0              40  United-States   >50K  \n",
       "32559             0              40  United-States  <=50K  \n",
       "32560             0              20  United-States  <=50K  \n",
       "\n",
       "[32561 rows x 15 columns]"
      ]
     },
     "execution_count": 4,
     "metadata": {},
     "output_type": "execute_result"
    }
   ],
   "source": [
    "rawdf"
   ]
  },
  {
   "cell_type": "code",
   "execution_count": 5,
   "id": "f914471e",
   "metadata": {},
   "outputs": [
    {
     "name": "stdout",
     "output_type": "stream",
     "text": [
      "<class 'pandas.core.frame.DataFrame'>\n",
      "RangeIndex: 32561 entries, 0 to 32560\n",
      "Data columns (total 15 columns):\n",
      " #   Column          Non-Null Count  Dtype \n",
      "---  ------          --------------  ----- \n",
      " 0   age             32561 non-null  int64 \n",
      " 1   workclass       32561 non-null  object\n",
      " 2   fnlwgt          32561 non-null  int64 \n",
      " 3   education       32561 non-null  object\n",
      " 4   education.num   32561 non-null  int64 \n",
      " 5   marital.status  32561 non-null  object\n",
      " 6   occupation      32561 non-null  object\n",
      " 7   relationship    32561 non-null  object\n",
      " 8   race            32561 non-null  object\n",
      " 9   sex             32561 non-null  object\n",
      " 10  capital.gain    32561 non-null  int64 \n",
      " 11  capital.loss    32561 non-null  int64 \n",
      " 12  hours.per.week  32561 non-null  int64 \n",
      " 13  native.country  32561 non-null  object\n",
      " 14  income          32561 non-null  object\n",
      "dtypes: int64(6), object(9)\n",
      "memory usage: 3.7+ MB\n"
     ]
    }
   ],
   "source": [
    "# information the file\n",
    "rawdf.info()"
   ]
  },
  {
   "cell_type": "code",
   "execution_count": 6,
   "id": "7914ae8b",
   "metadata": {},
   "outputs": [
    {
     "data": {
      "text/html": [
       "<div>\n",
       "<style scoped>\n",
       "    .dataframe tbody tr th:only-of-type {\n",
       "        vertical-align: middle;\n",
       "    }\n",
       "\n",
       "    .dataframe tbody tr th {\n",
       "        vertical-align: top;\n",
       "    }\n",
       "\n",
       "    .dataframe thead th {\n",
       "        text-align: right;\n",
       "    }\n",
       "</style>\n",
       "<table border=\"1\" class=\"dataframe\">\n",
       "  <thead>\n",
       "    <tr style=\"text-align: right;\">\n",
       "      <th></th>\n",
       "      <th>age</th>\n",
       "      <th>fnlwgt</th>\n",
       "      <th>education.num</th>\n",
       "      <th>capital.gain</th>\n",
       "      <th>capital.loss</th>\n",
       "      <th>hours.per.week</th>\n",
       "    </tr>\n",
       "  </thead>\n",
       "  <tbody>\n",
       "    <tr>\n",
       "      <th>count</th>\n",
       "      <td>32561.000000</td>\n",
       "      <td>3.256100e+04</td>\n",
       "      <td>32561.000000</td>\n",
       "      <td>32561.000000</td>\n",
       "      <td>32561.000000</td>\n",
       "      <td>32561.000000</td>\n",
       "    </tr>\n",
       "    <tr>\n",
       "      <th>mean</th>\n",
       "      <td>38.581647</td>\n",
       "      <td>1.897784e+05</td>\n",
       "      <td>10.080679</td>\n",
       "      <td>1077.648844</td>\n",
       "      <td>87.303830</td>\n",
       "      <td>40.437456</td>\n",
       "    </tr>\n",
       "    <tr>\n",
       "      <th>std</th>\n",
       "      <td>13.640433</td>\n",
       "      <td>1.055500e+05</td>\n",
       "      <td>2.572720</td>\n",
       "      <td>7385.292085</td>\n",
       "      <td>402.960219</td>\n",
       "      <td>12.347429</td>\n",
       "    </tr>\n",
       "    <tr>\n",
       "      <th>min</th>\n",
       "      <td>17.000000</td>\n",
       "      <td>1.228500e+04</td>\n",
       "      <td>1.000000</td>\n",
       "      <td>0.000000</td>\n",
       "      <td>0.000000</td>\n",
       "      <td>1.000000</td>\n",
       "    </tr>\n",
       "    <tr>\n",
       "      <th>25%</th>\n",
       "      <td>28.000000</td>\n",
       "      <td>1.178270e+05</td>\n",
       "      <td>9.000000</td>\n",
       "      <td>0.000000</td>\n",
       "      <td>0.000000</td>\n",
       "      <td>40.000000</td>\n",
       "    </tr>\n",
       "    <tr>\n",
       "      <th>50%</th>\n",
       "      <td>37.000000</td>\n",
       "      <td>1.783560e+05</td>\n",
       "      <td>10.000000</td>\n",
       "      <td>0.000000</td>\n",
       "      <td>0.000000</td>\n",
       "      <td>40.000000</td>\n",
       "    </tr>\n",
       "    <tr>\n",
       "      <th>75%</th>\n",
       "      <td>48.000000</td>\n",
       "      <td>2.370510e+05</td>\n",
       "      <td>12.000000</td>\n",
       "      <td>0.000000</td>\n",
       "      <td>0.000000</td>\n",
       "      <td>45.000000</td>\n",
       "    </tr>\n",
       "    <tr>\n",
       "      <th>max</th>\n",
       "      <td>90.000000</td>\n",
       "      <td>1.484705e+06</td>\n",
       "      <td>16.000000</td>\n",
       "      <td>99999.000000</td>\n",
       "      <td>4356.000000</td>\n",
       "      <td>99.000000</td>\n",
       "    </tr>\n",
       "  </tbody>\n",
       "</table>\n",
       "</div>"
      ],
      "text/plain": [
       "                age        fnlwgt  education.num  capital.gain  capital.loss  \\\n",
       "count  32561.000000  3.256100e+04   32561.000000  32561.000000  32561.000000   \n",
       "mean      38.581647  1.897784e+05      10.080679   1077.648844     87.303830   \n",
       "std       13.640433  1.055500e+05       2.572720   7385.292085    402.960219   \n",
       "min       17.000000  1.228500e+04       1.000000      0.000000      0.000000   \n",
       "25%       28.000000  1.178270e+05       9.000000      0.000000      0.000000   \n",
       "50%       37.000000  1.783560e+05      10.000000      0.000000      0.000000   \n",
       "75%       48.000000  2.370510e+05      12.000000      0.000000      0.000000   \n",
       "max       90.000000  1.484705e+06      16.000000  99999.000000   4356.000000   \n",
       "\n",
       "       hours.per.week  \n",
       "count    32561.000000  \n",
       "mean        40.437456  \n",
       "std         12.347429  \n",
       "min          1.000000  \n",
       "25%         40.000000  \n",
       "50%         40.000000  \n",
       "75%         45.000000  \n",
       "max         99.000000  "
      ]
     },
     "execution_count": 6,
     "metadata": {},
     "output_type": "execute_result"
    }
   ],
   "source": [
    "# describe the file-----it display statistical summary . by default it provides summary for continous columns\n",
    "rawdf.describe()"
   ]
  },
  {
   "cell_type": "code",
   "execution_count": 7,
   "id": "5158312a",
   "metadata": {},
   "outputs": [
    {
     "data": {
      "text/plain": [
       "(32561, 15)"
      ]
     },
     "execution_count": 7,
     "metadata": {},
     "output_type": "execute_result"
    }
   ],
   "source": [
    "# shapes of column & rows\n",
    "rawdf.shape"
   ]
  },
  {
   "cell_type": "code",
   "execution_count": 8,
   "id": "0a0f7d21",
   "metadata": {},
   "outputs": [
    {
     "name": "stdout",
     "output_type": "stream",
     "text": [
      "Number of Rows : 32561\n",
      "Number of Columns : 15\n"
     ]
    }
   ],
   "source": [
    "print(\"Number of Rows :\",rawdf.shape[0])\n",
    "print(\"Number of Columns :\",rawdf.shape[1])"
   ]
  },
  {
   "cell_type": "code",
   "execution_count": 9,
   "id": "5dd3514f",
   "metadata": {},
   "outputs": [
    {
     "data": {
      "text/plain": [
       "pandas.core.frame.DataFrame"
      ]
     },
     "execution_count": 9,
     "metadata": {},
     "output_type": "execute_result"
    }
   ],
   "source": [
    "# type of file\n",
    "type(rawdf)"
   ]
  },
  {
   "cell_type": "code",
   "execution_count": 10,
   "id": "f107e257",
   "metadata": {},
   "outputs": [
    {
     "data": {
      "text/plain": [
       "Index(['age', 'workclass', 'fnlwgt', 'education', 'education.num',\n",
       "       'marital.status', 'occupation', 'relationship', 'race', 'sex',\n",
       "       'capital.gain', 'capital.loss', 'hours.per.week', 'native.country',\n",
       "       'income'],\n",
       "      dtype='object')"
      ]
     },
     "execution_count": 10,
     "metadata": {},
     "output_type": "execute_result"
    }
   ],
   "source": [
    "# Display the columns names\n",
    "rawdf.columns"
   ]
  },
  {
   "cell_type": "code",
   "execution_count": 11,
   "id": "e3a21c9c",
   "metadata": {},
   "outputs": [
    {
     "data": {
      "text/html": [
       "<div>\n",
       "<style scoped>\n",
       "    .dataframe tbody tr th:only-of-type {\n",
       "        vertical-align: middle;\n",
       "    }\n",
       "\n",
       "    .dataframe tbody tr th {\n",
       "        vertical-align: top;\n",
       "    }\n",
       "\n",
       "    .dataframe thead th {\n",
       "        text-align: right;\n",
       "    }\n",
       "</style>\n",
       "<table border=\"1\" class=\"dataframe\">\n",
       "  <thead>\n",
       "    <tr style=\"text-align: right;\">\n",
       "      <th></th>\n",
       "      <th>age</th>\n",
       "      <th>workclass</th>\n",
       "      <th>fnlwgt</th>\n",
       "      <th>education</th>\n",
       "      <th>education.num</th>\n",
       "      <th>marital.status</th>\n",
       "      <th>occupation</th>\n",
       "      <th>relationship</th>\n",
       "      <th>race</th>\n",
       "      <th>sex</th>\n",
       "      <th>capital.gain</th>\n",
       "      <th>capital.loss</th>\n",
       "      <th>hours.per.week</th>\n",
       "      <th>native.country</th>\n",
       "      <th>income</th>\n",
       "    </tr>\n",
       "  </thead>\n",
       "  <tbody>\n",
       "    <tr>\n",
       "      <th>0</th>\n",
       "      <td>90</td>\n",
       "      <td>?</td>\n",
       "      <td>77053</td>\n",
       "      <td>HS-grad</td>\n",
       "      <td>9</td>\n",
       "      <td>Widowed</td>\n",
       "      <td>?</td>\n",
       "      <td>Not-in-family</td>\n",
       "      <td>White</td>\n",
       "      <td>Female</td>\n",
       "      <td>0</td>\n",
       "      <td>4356</td>\n",
       "      <td>40</td>\n",
       "      <td>United-States</td>\n",
       "      <td>&lt;=50K</td>\n",
       "    </tr>\n",
       "    <tr>\n",
       "      <th>1</th>\n",
       "      <td>82</td>\n",
       "      <td>Private</td>\n",
       "      <td>132870</td>\n",
       "      <td>HS-grad</td>\n",
       "      <td>9</td>\n",
       "      <td>Widowed</td>\n",
       "      <td>Exec-managerial</td>\n",
       "      <td>Not-in-family</td>\n",
       "      <td>White</td>\n",
       "      <td>Female</td>\n",
       "      <td>0</td>\n",
       "      <td>4356</td>\n",
       "      <td>18</td>\n",
       "      <td>United-States</td>\n",
       "      <td>&lt;=50K</td>\n",
       "    </tr>\n",
       "    <tr>\n",
       "      <th>2</th>\n",
       "      <td>66</td>\n",
       "      <td>?</td>\n",
       "      <td>186061</td>\n",
       "      <td>Some-college</td>\n",
       "      <td>10</td>\n",
       "      <td>Widowed</td>\n",
       "      <td>?</td>\n",
       "      <td>Unmarried</td>\n",
       "      <td>Black</td>\n",
       "      <td>Female</td>\n",
       "      <td>0</td>\n",
       "      <td>4356</td>\n",
       "      <td>40</td>\n",
       "      <td>United-States</td>\n",
       "      <td>&lt;=50K</td>\n",
       "    </tr>\n",
       "    <tr>\n",
       "      <th>3</th>\n",
       "      <td>54</td>\n",
       "      <td>Private</td>\n",
       "      <td>140359</td>\n",
       "      <td>7th-8th</td>\n",
       "      <td>4</td>\n",
       "      <td>Divorced</td>\n",
       "      <td>Machine-op-inspct</td>\n",
       "      <td>Unmarried</td>\n",
       "      <td>White</td>\n",
       "      <td>Female</td>\n",
       "      <td>0</td>\n",
       "      <td>3900</td>\n",
       "      <td>40</td>\n",
       "      <td>United-States</td>\n",
       "      <td>&lt;=50K</td>\n",
       "    </tr>\n",
       "    <tr>\n",
       "      <th>4</th>\n",
       "      <td>41</td>\n",
       "      <td>Private</td>\n",
       "      <td>264663</td>\n",
       "      <td>Some-college</td>\n",
       "      <td>10</td>\n",
       "      <td>Separated</td>\n",
       "      <td>Prof-specialty</td>\n",
       "      <td>Own-child</td>\n",
       "      <td>White</td>\n",
       "      <td>Female</td>\n",
       "      <td>0</td>\n",
       "      <td>3900</td>\n",
       "      <td>40</td>\n",
       "      <td>United-States</td>\n",
       "      <td>&lt;=50K</td>\n",
       "    </tr>\n",
       "  </tbody>\n",
       "</table>\n",
       "</div>"
      ],
      "text/plain": [
       "   age workclass  fnlwgt     education  education.num marital.status  \\\n",
       "0   90         ?   77053       HS-grad              9        Widowed   \n",
       "1   82   Private  132870       HS-grad              9        Widowed   \n",
       "2   66         ?  186061  Some-college             10        Widowed   \n",
       "3   54   Private  140359       7th-8th              4       Divorced   \n",
       "4   41   Private  264663  Some-college             10      Separated   \n",
       "\n",
       "          occupation   relationship   race     sex  capital.gain  \\\n",
       "0                  ?  Not-in-family  White  Female             0   \n",
       "1    Exec-managerial  Not-in-family  White  Female             0   \n",
       "2                  ?      Unmarried  Black  Female             0   \n",
       "3  Machine-op-inspct      Unmarried  White  Female             0   \n",
       "4     Prof-specialty      Own-child  White  Female             0   \n",
       "\n",
       "   capital.loss  hours.per.week native.country income  \n",
       "0          4356              40  United-States  <=50K  \n",
       "1          4356              18  United-States  <=50K  \n",
       "2          4356              40  United-States  <=50K  \n",
       "3          3900              40  United-States  <=50K  \n",
       "4          3900              40  United-States  <=50K  "
      ]
     },
     "execution_count": 11,
     "metadata": {},
     "output_type": "execute_result"
    }
   ],
   "source": [
    "# first five record\n",
    "rawdf.head()"
   ]
  },
  {
   "cell_type": "code",
   "execution_count": 12,
   "id": "54e05ce7",
   "metadata": {},
   "outputs": [],
   "source": [
    "rawdf.replace({\"?\":None},inplace=True)\n",
    "# replacing the unique symbol"
   ]
  },
  {
   "cell_type": "code",
   "execution_count": 13,
   "id": "5e0227a1",
   "metadata": {
    "scrolled": true
   },
   "outputs": [
    {
     "data": {
      "text/html": [
       "<div>\n",
       "<style scoped>\n",
       "    .dataframe tbody tr th:only-of-type {\n",
       "        vertical-align: middle;\n",
       "    }\n",
       "\n",
       "    .dataframe tbody tr th {\n",
       "        vertical-align: top;\n",
       "    }\n",
       "\n",
       "    .dataframe thead th {\n",
       "        text-align: right;\n",
       "    }\n",
       "</style>\n",
       "<table border=\"1\" class=\"dataframe\">\n",
       "  <thead>\n",
       "    <tr style=\"text-align: right;\">\n",
       "      <th></th>\n",
       "      <th>age</th>\n",
       "      <th>workclass</th>\n",
       "      <th>fnlwgt</th>\n",
       "      <th>education</th>\n",
       "      <th>education.num</th>\n",
       "      <th>marital.status</th>\n",
       "      <th>occupation</th>\n",
       "      <th>relationship</th>\n",
       "      <th>race</th>\n",
       "      <th>sex</th>\n",
       "      <th>capital.gain</th>\n",
       "      <th>capital.loss</th>\n",
       "      <th>hours.per.week</th>\n",
       "      <th>native.country</th>\n",
       "      <th>income</th>\n",
       "    </tr>\n",
       "  </thead>\n",
       "  <tbody>\n",
       "    <tr>\n",
       "      <th>0</th>\n",
       "      <td>90</td>\n",
       "      <td>None</td>\n",
       "      <td>77053</td>\n",
       "      <td>HS-grad</td>\n",
       "      <td>9</td>\n",
       "      <td>Widowed</td>\n",
       "      <td>None</td>\n",
       "      <td>Not-in-family</td>\n",
       "      <td>White</td>\n",
       "      <td>Female</td>\n",
       "      <td>0</td>\n",
       "      <td>4356</td>\n",
       "      <td>40</td>\n",
       "      <td>United-States</td>\n",
       "      <td>&lt;=50K</td>\n",
       "    </tr>\n",
       "    <tr>\n",
       "      <th>1</th>\n",
       "      <td>82</td>\n",
       "      <td>Private</td>\n",
       "      <td>132870</td>\n",
       "      <td>HS-grad</td>\n",
       "      <td>9</td>\n",
       "      <td>Widowed</td>\n",
       "      <td>Exec-managerial</td>\n",
       "      <td>Not-in-family</td>\n",
       "      <td>White</td>\n",
       "      <td>Female</td>\n",
       "      <td>0</td>\n",
       "      <td>4356</td>\n",
       "      <td>18</td>\n",
       "      <td>United-States</td>\n",
       "      <td>&lt;=50K</td>\n",
       "    </tr>\n",
       "    <tr>\n",
       "      <th>2</th>\n",
       "      <td>66</td>\n",
       "      <td>None</td>\n",
       "      <td>186061</td>\n",
       "      <td>Some-college</td>\n",
       "      <td>10</td>\n",
       "      <td>Widowed</td>\n",
       "      <td>None</td>\n",
       "      <td>Unmarried</td>\n",
       "      <td>Black</td>\n",
       "      <td>Female</td>\n",
       "      <td>0</td>\n",
       "      <td>4356</td>\n",
       "      <td>40</td>\n",
       "      <td>United-States</td>\n",
       "      <td>&lt;=50K</td>\n",
       "    </tr>\n",
       "    <tr>\n",
       "      <th>3</th>\n",
       "      <td>54</td>\n",
       "      <td>Private</td>\n",
       "      <td>140359</td>\n",
       "      <td>7th-8th</td>\n",
       "      <td>4</td>\n",
       "      <td>Divorced</td>\n",
       "      <td>Machine-op-inspct</td>\n",
       "      <td>Unmarried</td>\n",
       "      <td>White</td>\n",
       "      <td>Female</td>\n",
       "      <td>0</td>\n",
       "      <td>3900</td>\n",
       "      <td>40</td>\n",
       "      <td>United-States</td>\n",
       "      <td>&lt;=50K</td>\n",
       "    </tr>\n",
       "    <tr>\n",
       "      <th>4</th>\n",
       "      <td>41</td>\n",
       "      <td>Private</td>\n",
       "      <td>264663</td>\n",
       "      <td>Some-college</td>\n",
       "      <td>10</td>\n",
       "      <td>Separated</td>\n",
       "      <td>Prof-specialty</td>\n",
       "      <td>Own-child</td>\n",
       "      <td>White</td>\n",
       "      <td>Female</td>\n",
       "      <td>0</td>\n",
       "      <td>3900</td>\n",
       "      <td>40</td>\n",
       "      <td>United-States</td>\n",
       "      <td>&lt;=50K</td>\n",
       "    </tr>\n",
       "  </tbody>\n",
       "</table>\n",
       "</div>"
      ],
      "text/plain": [
       "   age workclass  fnlwgt     education  education.num marital.status  \\\n",
       "0   90      None   77053       HS-grad              9        Widowed   \n",
       "1   82   Private  132870       HS-grad              9        Widowed   \n",
       "2   66      None  186061  Some-college             10        Widowed   \n",
       "3   54   Private  140359       7th-8th              4       Divorced   \n",
       "4   41   Private  264663  Some-college             10      Separated   \n",
       "\n",
       "          occupation   relationship   race     sex  capital.gain  \\\n",
       "0               None  Not-in-family  White  Female             0   \n",
       "1    Exec-managerial  Not-in-family  White  Female             0   \n",
       "2               None      Unmarried  Black  Female             0   \n",
       "3  Machine-op-inspct      Unmarried  White  Female             0   \n",
       "4     Prof-specialty      Own-child  White  Female             0   \n",
       "\n",
       "   capital.loss  hours.per.week native.country income  \n",
       "0          4356              40  United-States  <=50K  \n",
       "1          4356              18  United-States  <=50K  \n",
       "2          4356              40  United-States  <=50K  \n",
       "3          3900              40  United-States  <=50K  \n",
       "4          3900              40  United-States  <=50K  "
      ]
     },
     "execution_count": 13,
     "metadata": {},
     "output_type": "execute_result"
    }
   ],
   "source": [
    "rawdf.head()"
   ]
  },
  {
   "cell_type": "code",
   "execution_count": 14,
   "id": "74283f26",
   "metadata": {},
   "outputs": [
    {
     "data": {
      "text/html": [
       "<div>\n",
       "<style scoped>\n",
       "    .dataframe tbody tr th:only-of-type {\n",
       "        vertical-align: middle;\n",
       "    }\n",
       "\n",
       "    .dataframe tbody tr th {\n",
       "        vertical-align: top;\n",
       "    }\n",
       "\n",
       "    .dataframe thead th {\n",
       "        text-align: right;\n",
       "    }\n",
       "</style>\n",
       "<table border=\"1\" class=\"dataframe\">\n",
       "  <thead>\n",
       "    <tr style=\"text-align: right;\">\n",
       "      <th></th>\n",
       "      <th>age</th>\n",
       "      <th>workclass</th>\n",
       "      <th>fnlwgt</th>\n",
       "      <th>education</th>\n",
       "      <th>education.num</th>\n",
       "      <th>marital.status</th>\n",
       "      <th>occupation</th>\n",
       "      <th>relationship</th>\n",
       "      <th>race</th>\n",
       "      <th>sex</th>\n",
       "      <th>capital.gain</th>\n",
       "      <th>capital.loss</th>\n",
       "      <th>hours.per.week</th>\n",
       "      <th>native.country</th>\n",
       "      <th>income</th>\n",
       "    </tr>\n",
       "  </thead>\n",
       "  <tbody>\n",
       "    <tr>\n",
       "      <th>0</th>\n",
       "      <td>False</td>\n",
       "      <td>True</td>\n",
       "      <td>False</td>\n",
       "      <td>False</td>\n",
       "      <td>False</td>\n",
       "      <td>False</td>\n",
       "      <td>True</td>\n",
       "      <td>False</td>\n",
       "      <td>False</td>\n",
       "      <td>False</td>\n",
       "      <td>False</td>\n",
       "      <td>False</td>\n",
       "      <td>False</td>\n",
       "      <td>False</td>\n",
       "      <td>False</td>\n",
       "    </tr>\n",
       "    <tr>\n",
       "      <th>1</th>\n",
       "      <td>False</td>\n",
       "      <td>False</td>\n",
       "      <td>False</td>\n",
       "      <td>False</td>\n",
       "      <td>False</td>\n",
       "      <td>False</td>\n",
       "      <td>False</td>\n",
       "      <td>False</td>\n",
       "      <td>False</td>\n",
       "      <td>False</td>\n",
       "      <td>False</td>\n",
       "      <td>False</td>\n",
       "      <td>False</td>\n",
       "      <td>False</td>\n",
       "      <td>False</td>\n",
       "    </tr>\n",
       "    <tr>\n",
       "      <th>2</th>\n",
       "      <td>False</td>\n",
       "      <td>True</td>\n",
       "      <td>False</td>\n",
       "      <td>False</td>\n",
       "      <td>False</td>\n",
       "      <td>False</td>\n",
       "      <td>True</td>\n",
       "      <td>False</td>\n",
       "      <td>False</td>\n",
       "      <td>False</td>\n",
       "      <td>False</td>\n",
       "      <td>False</td>\n",
       "      <td>False</td>\n",
       "      <td>False</td>\n",
       "      <td>False</td>\n",
       "    </tr>\n",
       "    <tr>\n",
       "      <th>3</th>\n",
       "      <td>False</td>\n",
       "      <td>False</td>\n",
       "      <td>False</td>\n",
       "      <td>False</td>\n",
       "      <td>False</td>\n",
       "      <td>False</td>\n",
       "      <td>False</td>\n",
       "      <td>False</td>\n",
       "      <td>False</td>\n",
       "      <td>False</td>\n",
       "      <td>False</td>\n",
       "      <td>False</td>\n",
       "      <td>False</td>\n",
       "      <td>False</td>\n",
       "      <td>False</td>\n",
       "    </tr>\n",
       "    <tr>\n",
       "      <th>4</th>\n",
       "      <td>False</td>\n",
       "      <td>False</td>\n",
       "      <td>False</td>\n",
       "      <td>False</td>\n",
       "      <td>False</td>\n",
       "      <td>False</td>\n",
       "      <td>False</td>\n",
       "      <td>False</td>\n",
       "      <td>False</td>\n",
       "      <td>False</td>\n",
       "      <td>False</td>\n",
       "      <td>False</td>\n",
       "      <td>False</td>\n",
       "      <td>False</td>\n",
       "      <td>False</td>\n",
       "    </tr>\n",
       "    <tr>\n",
       "      <th>...</th>\n",
       "      <td>...</td>\n",
       "      <td>...</td>\n",
       "      <td>...</td>\n",
       "      <td>...</td>\n",
       "      <td>...</td>\n",
       "      <td>...</td>\n",
       "      <td>...</td>\n",
       "      <td>...</td>\n",
       "      <td>...</td>\n",
       "      <td>...</td>\n",
       "      <td>...</td>\n",
       "      <td>...</td>\n",
       "      <td>...</td>\n",
       "      <td>...</td>\n",
       "      <td>...</td>\n",
       "    </tr>\n",
       "    <tr>\n",
       "      <th>32556</th>\n",
       "      <td>False</td>\n",
       "      <td>False</td>\n",
       "      <td>False</td>\n",
       "      <td>False</td>\n",
       "      <td>False</td>\n",
       "      <td>False</td>\n",
       "      <td>False</td>\n",
       "      <td>False</td>\n",
       "      <td>False</td>\n",
       "      <td>False</td>\n",
       "      <td>False</td>\n",
       "      <td>False</td>\n",
       "      <td>False</td>\n",
       "      <td>False</td>\n",
       "      <td>False</td>\n",
       "    </tr>\n",
       "    <tr>\n",
       "      <th>32557</th>\n",
       "      <td>False</td>\n",
       "      <td>False</td>\n",
       "      <td>False</td>\n",
       "      <td>False</td>\n",
       "      <td>False</td>\n",
       "      <td>False</td>\n",
       "      <td>False</td>\n",
       "      <td>False</td>\n",
       "      <td>False</td>\n",
       "      <td>False</td>\n",
       "      <td>False</td>\n",
       "      <td>False</td>\n",
       "      <td>False</td>\n",
       "      <td>False</td>\n",
       "      <td>False</td>\n",
       "    </tr>\n",
       "    <tr>\n",
       "      <th>32558</th>\n",
       "      <td>False</td>\n",
       "      <td>False</td>\n",
       "      <td>False</td>\n",
       "      <td>False</td>\n",
       "      <td>False</td>\n",
       "      <td>False</td>\n",
       "      <td>False</td>\n",
       "      <td>False</td>\n",
       "      <td>False</td>\n",
       "      <td>False</td>\n",
       "      <td>False</td>\n",
       "      <td>False</td>\n",
       "      <td>False</td>\n",
       "      <td>False</td>\n",
       "      <td>False</td>\n",
       "    </tr>\n",
       "    <tr>\n",
       "      <th>32559</th>\n",
       "      <td>False</td>\n",
       "      <td>False</td>\n",
       "      <td>False</td>\n",
       "      <td>False</td>\n",
       "      <td>False</td>\n",
       "      <td>False</td>\n",
       "      <td>False</td>\n",
       "      <td>False</td>\n",
       "      <td>False</td>\n",
       "      <td>False</td>\n",
       "      <td>False</td>\n",
       "      <td>False</td>\n",
       "      <td>False</td>\n",
       "      <td>False</td>\n",
       "      <td>False</td>\n",
       "    </tr>\n",
       "    <tr>\n",
       "      <th>32560</th>\n",
       "      <td>False</td>\n",
       "      <td>False</td>\n",
       "      <td>False</td>\n",
       "      <td>False</td>\n",
       "      <td>False</td>\n",
       "      <td>False</td>\n",
       "      <td>False</td>\n",
       "      <td>False</td>\n",
       "      <td>False</td>\n",
       "      <td>False</td>\n",
       "      <td>False</td>\n",
       "      <td>False</td>\n",
       "      <td>False</td>\n",
       "      <td>False</td>\n",
       "      <td>False</td>\n",
       "    </tr>\n",
       "  </tbody>\n",
       "</table>\n",
       "<p>32561 rows × 15 columns</p>\n",
       "</div>"
      ],
      "text/plain": [
       "         age  workclass  fnlwgt  education  education.num  marital.status  \\\n",
       "0      False       True   False      False          False           False   \n",
       "1      False      False   False      False          False           False   \n",
       "2      False       True   False      False          False           False   \n",
       "3      False      False   False      False          False           False   \n",
       "4      False      False   False      False          False           False   \n",
       "...      ...        ...     ...        ...            ...             ...   \n",
       "32556  False      False   False      False          False           False   \n",
       "32557  False      False   False      False          False           False   \n",
       "32558  False      False   False      False          False           False   \n",
       "32559  False      False   False      False          False           False   \n",
       "32560  False      False   False      False          False           False   \n",
       "\n",
       "       occupation  relationship   race    sex  capital.gain  capital.loss  \\\n",
       "0            True         False  False  False         False         False   \n",
       "1           False         False  False  False         False         False   \n",
       "2            True         False  False  False         False         False   \n",
       "3           False         False  False  False         False         False   \n",
       "4           False         False  False  False         False         False   \n",
       "...           ...           ...    ...    ...           ...           ...   \n",
       "32556       False         False  False  False         False         False   \n",
       "32557       False         False  False  False         False         False   \n",
       "32558       False         False  False  False         False         False   \n",
       "32559       False         False  False  False         False         False   \n",
       "32560       False         False  False  False         False         False   \n",
       "\n",
       "       hours.per.week  native.country  income  \n",
       "0               False           False   False  \n",
       "1               False           False   False  \n",
       "2               False           False   False  \n",
       "3               False           False   False  \n",
       "4               False           False   False  \n",
       "...               ...             ...     ...  \n",
       "32556           False           False   False  \n",
       "32557           False           False   False  \n",
       "32558           False           False   False  \n",
       "32559           False           False   False  \n",
       "32560           False           False   False  \n",
       "\n",
       "[32561 rows x 15 columns]"
      ]
     },
     "execution_count": 14,
     "metadata": {},
     "output_type": "execute_result"
    }
   ],
   "source": [
    "# check the missing values\n",
    "rawdf.isna() # there is only output True or False"
   ]
  },
  {
   "cell_type": "code",
   "execution_count": 15,
   "id": "5d8db8b4",
   "metadata": {},
   "outputs": [
    {
     "data": {
      "text/plain": [
       "age                  0\n",
       "workclass         1836\n",
       "fnlwgt               0\n",
       "education            0\n",
       "education.num        0\n",
       "marital.status       0\n",
       "occupation        1843\n",
       "relationship         0\n",
       "race                 0\n",
       "sex                  0\n",
       "capital.gain         0\n",
       "capital.loss         0\n",
       "hours.per.week       0\n",
       "native.country     583\n",
       "income               0\n",
       "dtype: int64"
      ]
     },
     "execution_count": 15,
     "metadata": {},
     "output_type": "execute_result"
    }
   ],
   "source": [
    "rawdf.isna().sum()\n",
    "# we are 3 column found the missing value\n",
    "# WORKCLASS = 1836 \n",
    "# OCCUPATION = 1843\n",
    "# NATIVE.COUNTRY = 583"
   ]
  },
  {
   "cell_type": "code",
   "execution_count": 16,
   "id": "191cec1d",
   "metadata": {},
   "outputs": [
    {
     "data": {
      "text/plain": [
       "'United-States'"
      ]
     },
     "execution_count": 16,
     "metadata": {},
     "output_type": "execute_result"
    }
   ],
   "source": [
    "# Mode of missing value\n",
    "rawdf[\"workclass\"].mode()[0]\n",
    "# private\n",
    "rawdf[\"occupation\"].mode()[0]\n",
    "# pro-specialty\n",
    "rawdf[\"native.country\"].mode()[0]\n",
    "# united-states"
   ]
  },
  {
   "cell_type": "code",
   "execution_count": 17,
   "id": "a6f7a5d3",
   "metadata": {},
   "outputs": [],
   "source": [
    "# fillng the missing value\n",
    "rawdf[\"workclass\"].fillna('Private',inplace=True)\n",
    "rawdf[\"occupation\"].fillna('Pro-specialty',inplace=True)\n",
    "rawdf[\"native.country\"].fillna('United-States',inplace=True)"
   ]
  },
  {
   "cell_type": "code",
   "execution_count": 18,
   "id": "3d4f2f12",
   "metadata": {},
   "outputs": [
    {
     "data": {
      "text/plain": [
       "age               0\n",
       "workclass         0\n",
       "fnlwgt            0\n",
       "education         0\n",
       "education.num     0\n",
       "marital.status    0\n",
       "occupation        0\n",
       "relationship      0\n",
       "race              0\n",
       "sex               0\n",
       "capital.gain      0\n",
       "capital.loss      0\n",
       "hours.per.week    0\n",
       "native.country    0\n",
       "income            0\n",
       "dtype: int64"
      ]
     },
     "execution_count": 18,
     "metadata": {},
     "output_type": "execute_result"
    }
   ],
   "source": [
    "rawdf.isna().sum()"
   ]
  },
  {
   "cell_type": "code",
   "execution_count": 19,
   "id": "0edd46eb",
   "metadata": {},
   "outputs": [
    {
     "data": {
      "text/plain": [
       "age  workclass         fnlwgt  education     education.num  marital.status      occupation         relationship   race   sex     capital.gain  capital.loss  hours.per.week  native.country  income\n",
       "25   Private           195994  1st-4th       2              Never-married       Priv-house-serv    Not-in-family  White  Female  0             0             40              Guatemala       <=50K     3\n",
       "38   Private           207202  HS-grad       9              Married-civ-spouse  Machine-op-inspct  Husband        White  Male    0             0             48              United-States   >50K      2\n",
       "19   Private           97261   HS-grad       9              Never-married       Farming-fishing    Not-in-family  White  Male    0             0             40              United-States   <=50K     2\n",
       "46   Private           173243  HS-grad       9              Married-civ-spouse  Craft-repair       Husband        White  Male    0             0             40              United-States   <=50K     2\n",
       "                       133616  Some-college  10             Divorced            Adm-clerical       Unmarried      White  Female  0             0             40              United-States   <=50K     2\n",
       "                                                                                                                                                                                                      ..\n",
       "31   Private           132996  HS-grad       9              Married-civ-spouse  Prof-specialty     Husband        White  Male    5178          0             45              United-States   >50K      1\n",
       "                       132601  Some-college  10             Married-civ-spouse  Exec-managerial    Husband        White  Male    0             0             40              United-States   <=50K     1\n",
       "                               HS-grad       9              Never-married       Other-service      Own-child      White  Male    0             0             40              United-States   <=50K     1\n",
       "                       131568  9th           5              Never-married       Machine-op-inspct  Not-in-family  White  Male    0             0             40              United-States   <=50K     1\n",
       "90   Self-emp-not-inc  282095  Some-college  10             Married-civ-spouse  Farming-fishing    Husband        White  Male    0             0             40              United-States   <=50K     1\n",
       "Length: 32537, dtype: int64"
      ]
     },
     "execution_count": 19,
     "metadata": {},
     "output_type": "execute_result"
    }
   ],
   "source": [
    "rawdf.value_counts()\n",
    "# we don't have a specific column for value counts"
   ]
  },
  {
   "cell_type": "code",
   "execution_count": 20,
   "id": "74e2b9ee",
   "metadata": {},
   "outputs": [],
   "source": [
    "# depended variable income and all column are independed"
   ]
  },
  {
   "cell_type": "code",
   "execution_count": 21,
   "id": "da1082b3",
   "metadata": {},
   "outputs": [
    {
     "data": {
      "text/plain": [
       "age               32561\n",
       "workclass         32561\n",
       "fnlwgt            32561\n",
       "education         32561\n",
       "education.num     32561\n",
       "marital.status    32561\n",
       "occupation        32561\n",
       "relationship      32561\n",
       "race              32561\n",
       "sex               32561\n",
       "capital.gain      32561\n",
       "capital.loss      32561\n",
       "hours.per.week    32561\n",
       "native.country    32561\n",
       "income            32561\n",
       "dtype: int64"
      ]
     },
     "execution_count": 21,
     "metadata": {},
     "output_type": "execute_result"
    }
   ],
   "source": [
    "rawdf.count()"
   ]
  },
  {
   "cell_type": "code",
   "execution_count": 22,
   "id": "fa31dff6",
   "metadata": {},
   "outputs": [
    {
     "data": {
      "text/plain": [
       "<=50K    24720\n",
       ">50K      7841\n",
       "Name: income, dtype: int64"
      ]
     },
     "execution_count": 22,
     "metadata": {},
     "output_type": "execute_result"
    }
   ],
   "source": [
    "# INCOME\n",
    "rawdf['income'].value_counts()"
   ]
  },
  {
   "cell_type": "code",
   "execution_count": 27,
   "id": "20fcb02e",
   "metadata": {},
   "outputs": [
    {
     "data": {
      "text/plain": [
       "0        0\n",
       "1        0\n",
       "2        0\n",
       "3        0\n",
       "4        0\n",
       "        ..\n",
       "32556    0\n",
       "32557    0\n",
       "32558    1\n",
       "32559    0\n",
       "32560    0\n",
       "Name: income, Length: 32561, dtype: int64"
      ]
     },
     "execution_count": 27,
     "metadata": {},
     "output_type": "execute_result"
    }
   ],
   "source": [
    "# replace the value of income greather than or less than mai\n",
    "rawdf[\"income\"].map({'<=50K':0,'>50K':1})"
   ]
  },
  {
   "cell_type": "code",
   "execution_count": 28,
   "id": "06d5746c",
   "metadata": {},
   "outputs": [
    {
     "name": "stdout",
     "output_type": "stream",
     "text": [
      "Greater than oe equl to 50k: 0\n",
      "Less than 50k: 1\n"
     ]
    }
   ],
   "source": [
    "print(\"Greater than oe equl to 50k:\",0)\n",
    "print(\"Less than 50k:\",1)"
   ]
  },
  {
   "cell_type": "code",
   "execution_count": 29,
   "id": "bd994827",
   "metadata": {},
   "outputs": [
    {
     "data": {
      "text/plain": [
       "<=50K    24720\n",
       ">50K      7841\n",
       "Name: income, dtype: int64"
      ]
     },
     "execution_count": 29,
     "metadata": {},
     "output_type": "execute_result"
    }
   ],
   "source": [
    "rawdf[\"income\"].value_counts()"
   ]
  },
  {
   "cell_type": "code",
   "execution_count": 30,
   "id": "203c70ac",
   "metadata": {},
   "outputs": [
    {
     "data": {
      "image/png": "[encoded data removed]",
      "text/plain": [
       "<Figure size 500x600 with 1 Axes>"
      ]
     },
     "metadata": {},
     "output_type": "display_data"
    }
   ],
   "source": [
    "# show the distribution of income in two parts greather than or less than\n",
    "# 76% is greather than the part of income , thats means is denoted 0 \n",
    "# &\n",
    "# 24% is less than the part of income , thats means is denoted  1\n",
    "plt.figure(figsize=(5,6))\n",
    "rawdf[\"income\"].value_counts().plot.pie(autopct=\"%1.0f%%\")\n",
    "plt.show()"
   ]
  },
  {
   "cell_type": "code",
   "execution_count": 31,
   "id": "90387bc9",
   "metadata": {},
   "outputs": [
    {
     "data": {
      "text/plain": [
       "Private             24532\n",
       "Self-emp-not-inc     2541\n",
       "Local-gov            2093\n",
       "State-gov            1298\n",
       "Self-emp-inc         1116\n",
       "Federal-gov           960\n",
       "Without-pay            14\n",
       "Never-worked            7\n",
       "Name: workclass, dtype: int64"
      ]
     },
     "execution_count": 31,
     "metadata": {},
     "output_type": "execute_result"
    }
   ],
   "source": [
    "# WORKCLASS\n",
    "# check the column value\n",
    "rawdf[\"workclass\"].value_counts()"
   ]
  },
  {
   "cell_type": "code",
   "execution_count": 32,
   "id": "0059521c",
   "metadata": {
    "scrolled": true
   },
   "outputs": [
    {
     "data": {
      "text/plain": [
       "Married-civ-spouse       14976\n",
       "Never-married            10683\n",
       "Divorced                  4443\n",
       "Separated                 1025\n",
       "Widowed                    993\n",
       "Married-spouse-absent      418\n",
       "Married-AF-spouse           23\n",
       "Name: marital.status, dtype: int64"
      ]
     },
     "execution_count": 32,
     "metadata": {},
     "output_type": "execute_result"
    }
   ],
   "source": [
    "# MARITAL STATUS\n",
    "# here we have 3 rows are same meaning but file show the different rows\n",
    "# then we merage the column \n",
    "rawdf[\"marital.status\"].value_counts()"
   ]
  },
  {
   "cell_type": "code",
   "execution_count": 33,
   "id": "f8defed4",
   "metadata": {},
   "outputs": [],
   "source": [
    "rawdf['marital.status']=rawdf['marital.status'].map({\"Married-civ-spouse\":\"married\",\n",
    "                                                     \"Married-AF-spouse\":\"married\",\n",
    "                                                     \"Never-married\":\"Single\",\n",
    "                                                        \"Divorced\":\"Single\",\n",
    "                                                        \"Separated\":\"Single\",\n",
    "                                                        \"Widowed\":\"Single\",\n",
    "                                                        \"Married-spouse-absent\":\"Single\"})"
   ]
  },
  {
   "cell_type": "code",
   "execution_count": 34,
   "id": "7aa50082",
   "metadata": {},
   "outputs": [
    {
     "data": {
      "text/plain": [
       "Single     17562\n",
       "married    14999\n",
       "Name: marital.status, dtype: int64"
      ]
     },
     "execution_count": 34,
     "metadata": {},
     "output_type": "execute_result"
    }
   ],
   "source": [
    "rawdf[\"marital.status\"].value_counts()"
   ]
  },
  {
   "cell_type": "code",
   "execution_count": 35,
   "id": "4640d9e8",
   "metadata": {},
   "outputs": [
    {
     "data": {
      "text/plain": [
       "<function matplotlib.pyplot.show(close=None, block=None)>"
      ]
     },
     "execution_count": 35,
     "metadata": {},
     "output_type": "execute_result"
    },
    {
     "data": {
      "image/png": "[encoded data removed]",
      "text/plain": [
       "<Figure size 500x800 with 1 Axes>"
      ]
     },
     "metadata": {},
     "output_type": "display_data"
    }
   ],
   "source": [
    "# Show the pie-chart of MARIATL STATUS\n",
    "# pie chart show the 54% people are single & 46% people are married\n",
    "plt.figure(figsize=(5,8))\n",
    "rawdf[\"marital.status\"].value_counts().plot.pie(autopct='%1.0f%%')\n",
    "plt.show"
   ]
  },
  {
   "cell_type": "code",
   "execution_count": 36,
   "id": "1bf22b29",
   "metadata": {},
   "outputs": [
    {
     "data": {
      "image/png": "[encoded data removed]",
      "text/plain": [
       "<Figure size 600x900 with 1 Axes>"
      ]
     },
     "metadata": {},
     "output_type": "display_data"
    }
   ],
   "source": [
    "# we are comparing to marital status & income \n",
    "# figure are show the married people is maximum, income according to single people\n",
    "plt.figure(figsize=(6,9))\n",
    "sns.countplot(data=rawdf,x='marital.status',hue='income',palette='cubehelix_r')\n",
    "plt.show()"
   ]
  },
  {
   "cell_type": "code",
   "execution_count": 37,
   "id": "fc72a136",
   "metadata": {},
   "outputs": [
    {
     "data": {
      "text/plain": [
       "HS-grad         10501\n",
       "Some-college     7291\n",
       "Bachelors        5355\n",
       "Masters          1723\n",
       "Assoc-voc        1382\n",
       "11th             1175\n",
       "Assoc-acdm       1067\n",
       "10th              933\n",
       "7th-8th           646\n",
       "Prof-school       576\n",
       "9th               514\n",
       "12th              433\n",
       "Doctorate         413\n",
       "5th-6th           333\n",
       "1st-4th           168\n",
       "Preschool          51\n",
       "Name: education, dtype: int64"
      ]
     },
     "execution_count": 37,
     "metadata": {},
     "output_type": "execute_result"
    }
   ],
   "source": [
    "# EDUCATION\n",
    "rawdf['education'].value_counts()"
   ]
  },
  {
   "cell_type": "code",
   "execution_count": 38,
   "id": "436e86f2",
   "metadata": {},
   "outputs": [],
   "source": [
    "rawdf['education'].replace({'1st-4th':'1st-8th',\n",
    "                                              '5th-6th':'1st-8th',\n",
    "                                              '7th-8th':'1st-8th',\n",
    "                                              '9th':'9th-12th',\n",
    "                                              '10th':'9th-12th',\n",
    "                                              '11th':'9th-12th',\n",
    "                                              '11th':'9th-12th',\n",
    "                                              '12th':'9th-12th'},inplace=True)\n",
    "# here is different type of education ,then i seprate the data set."
   ]
  },
  {
   "cell_type": "code",
   "execution_count": 39,
   "id": "9daaa51c",
   "metadata": {},
   "outputs": [
    {
     "data": {
      "text/plain": [
       "HS-grad         10501\n",
       "Some-college     7291\n",
       "Bachelors        5355\n",
       "9th-12th         3055\n",
       "Masters          1723\n",
       "Assoc-voc        1382\n",
       "1st-8th          1147\n",
       "Assoc-acdm       1067\n",
       "Prof-school       576\n",
       "Doctorate         413\n",
       "Preschool          51\n",
       "Name: education, dtype: int64"
      ]
     },
     "execution_count": 39,
     "metadata": {},
     "output_type": "execute_result"
    }
   ],
   "source": [
    "rawdf['education'].value_counts()"
   ]
  },
  {
   "cell_type": "code",
   "execution_count": 40,
   "id": "48ba9ff7",
   "metadata": {},
   "outputs": [
    {
     "data": {
      "image/png": "[encoded data removed]",
      "text/plain": [
       "<Figure size 1500x500 with 1 Axes>"
      ]
     },
     "metadata": {},
     "output_type": "display_data"
    }
   ],
   "source": [
    "plt.figure(figsize=(15,5))\n",
    "sns.countplot(data=rawdf,x='education',hue='income',palette='nipy_spectral_r')\n",
    "plt.xlabel(\"education\")\n",
    "plt.show()\n",
    "\n",
    "# we can here see the higest number is hs-grad ."
   ]
  },
  {
   "cell_type": "code",
   "execution_count": 41,
   "id": "e8af9710",
   "metadata": {},
   "outputs": [
    {
     "data": {
      "text/plain": [
       "Prof-specialty       4140\n",
       "Craft-repair         4099\n",
       "Exec-managerial      4066\n",
       "Adm-clerical         3770\n",
       "Sales                3650\n",
       "Other-service        3295\n",
       "Machine-op-inspct    2002\n",
       "Pro-specialty        1843\n",
       "Transport-moving     1597\n",
       "Handlers-cleaners    1370\n",
       "Farming-fishing       994\n",
       "Tech-support          928\n",
       "Protective-serv       649\n",
       "Priv-house-serv       149\n",
       "Armed-Forces            9\n",
       "Name: occupation, dtype: int64"
      ]
     },
     "execution_count": 41,
     "metadata": {},
     "output_type": "execute_result"
    }
   ],
   "source": [
    "rawdf['occupation'].value_counts()"
   ]
  },
  {
   "cell_type": "code",
   "execution_count": 42,
   "id": "12d6bd54",
   "metadata": {},
   "outputs": [
    {
     "data": {
      "image/png": "[encoded data removed]",
      "text/plain": [
       "<Figure size 1500x500 with 1 Axes>"
      ]
     },
     "metadata": {},
     "output_type": "display_data"
    }
   ],
   "source": [
    "plt.figure(figsize=(15,5))\n",
    "sns.countplot(data=rawdf,x='occupation',hue='income',palette='gnuplot2')\n",
    "plt.show()"
   ]
  },
  {
   "cell_type": "code",
   "execution_count": 43,
   "id": "374da6d7",
   "metadata": {},
   "outputs": [
    {
     "data": {
      "text/plain": [
       "Husband           13193\n",
       "Not-in-family      8305\n",
       "Own-child          5068\n",
       "Unmarried          3446\n",
       "Wife               1568\n",
       "Other-relative      981\n",
       "Name: relationship, dtype: int64"
      ]
     },
     "execution_count": 43,
     "metadata": {},
     "output_type": "execute_result"
    }
   ],
   "source": [
    "# this column doesnot need any changing\n",
    "rawdf['relationship'].value_counts()"
   ]
  },
  {
   "cell_type": "code",
   "execution_count": 44,
   "id": "0c4d5d1a",
   "metadata": {},
   "outputs": [
    {
     "data": {
      "image/png": "[encoded data removed]",
      "text/plain": [
       "<Figure size 1200x500 with 1 Axes>"
      ]
     },
     "metadata": {},
     "output_type": "display_data"
    }
   ],
   "source": [
    "plt.figure(figsize=(12,5))\n",
    "rawdf['relationship'].value_counts().plot.pie(autopct='%1.0f%%')\n",
    "plt.show()\n",
    "# we can see here is 41% of husband in relationship column."
   ]
  },
  {
   "cell_type": "code",
   "execution_count": 45,
   "id": "849209a5",
   "metadata": {},
   "outputs": [
    {
     "name": "stderr",
     "output_type": "stream",
     "text": [
      "C:\\Users\\15-R\\anaconda3.a\\lib\\site-packages\\seaborn\\distributions.py:2619: FutureWarning: `distplot` is a deprecated function and will be removed in a future version. Please adapt your code to use either `displot` (a figure-level function with similar flexibility) or `histplot` (an axes-level function for histograms).\n",
      "  warnings.warn(msg, FutureWarning)\n"
     ]
    },
    {
     "data": {
      "image/png": "[encoded data removed]",
      "text/plain": [
       "<Figure size 640x480 with 1 Axes>"
      ]
     },
     "metadata": {},
     "output_type": "display_data"
    }
   ],
   "source": [
    "sns.distplot(rawdf['relationship'].value_counts())\n",
    "plt.show()"
   ]
  },
  {
   "cell_type": "code",
   "execution_count": 46,
   "id": "5c39990f",
   "metadata": {},
   "outputs": [
    {
     "data": {
      "text/plain": [
       "Index(['workclass', 'education', 'marital.status', 'occupation',\n",
       "       'relationship', 'race', 'sex', 'native.country', 'income'],\n",
       "      dtype='object')"
      ]
     },
     "execution_count": 46,
     "metadata": {},
     "output_type": "execute_result"
    }
   ],
   "source": [
    "# CHECK THE CATEGORICAL COLUMN IN DATA FRAME\n",
    "categr_val=rawdf.columns[rawdf.dtypes=='object']\n",
    "categr_val"
   ]
  },
  {
   "cell_type": "code",
   "execution_count": 47,
   "id": "026a84f5",
   "metadata": {},
   "outputs": [
    {
     "data": {
      "text/plain": [
       "24"
      ]
     },
     "execution_count": 47,
     "metadata": {},
     "output_type": "execute_result"
    }
   ],
   "source": [
    "# check the duplicate values in the data set.\n",
    "rawdf.duplicated().sum()"
   ]
  },
  {
   "cell_type": "code",
   "execution_count": 48,
   "id": "2db96fc5",
   "metadata": {},
   "outputs": [],
   "source": [
    "# MAP ------------------"
   ]
  },
  {
   "cell_type": "code",
   "execution_count": 49,
   "id": "18a6c1e6",
   "metadata": {},
   "outputs": [
    {
     "name": "stdout",
     "output_type": "stream",
     "text": [
      "Mean of age = 38.58164675532078\n"
     ]
    }
   ],
   "source": [
    "# AGE-------------\n",
    "#  MEAN OF AGE \n",
    "print('Mean of age =',rawdf['age'].mean())"
   ]
  },
  {
   "cell_type": "code",
   "execution_count": 50,
   "id": "7207ac6f",
   "metadata": {},
   "outputs": [
    {
     "data": {
      "text/plain": [
       "36    898\n",
       "31    888\n",
       "34    886\n",
       "23    877\n",
       "35    876\n",
       "     ... \n",
       "83      6\n",
       "88      3\n",
       "85      3\n",
       "86      1\n",
       "87      1\n",
       "Name: age, Length: 73, dtype: int64"
      ]
     },
     "execution_count": 50,
     "metadata": {},
     "output_type": "execute_result"
    }
   ],
   "source": [
    "rawdf['age'].value_counts()"
   ]
  },
  {
   "cell_type": "code",
   "execution_count": 51,
   "id": "baf07883",
   "metadata": {},
   "outputs": [
    {
     "name": "stderr",
     "output_type": "stream",
     "text": [
      "C:\\Users\\15-R\\anaconda3.a\\lib\\site-packages\\seaborn\\distributions.py:2619: FutureWarning: `distplot` is a deprecated function and will be removed in a future version. Please adapt your code to use either `displot` (a figure-level function with similar flexibility) or `histplot` (an axes-level function for histograms).\n",
      "  warnings.warn(msg, FutureWarning)\n"
     ]
    },
    {
     "data": {
      "text/plain": [
       "<AxesSubplot:xlabel='age', ylabel='Density'>"
      ]
     },
     "execution_count": 51,
     "metadata": {},
     "output_type": "execute_result"
    },
    {
     "data": {
      "image/png": "[encoded data removed]",
      "text/plain": [
       "<Figure size 640x480 with 1 Axes>"
      ]
     },
     "metadata": {},
     "output_type": "display_data"
    }
   ],
   "source": [
    "sns.distplot(rawdf['age'])\n",
    "# here is displot of the age column."
   ]
  },
  {
   "cell_type": "code",
   "execution_count": 52,
   "id": "c2a8ae12",
   "metadata": {},
   "outputs": [
    {
     "data": {
      "text/plain": [
       "<AxesSubplot:ylabel='age'>"
      ]
     },
     "execution_count": 52,
     "metadata": {},
     "output_type": "execute_result"
    },
    {
     "data": {
      "image/png": "[encoded data removed]",
      "text/plain": [
       "<Figure size 640x480 with 1 Axes>"
      ]
     },
     "metadata": {},
     "output_type": "display_data"
    }
   ],
   "source": [
    "# we are checking the outliers in the data set.\n",
    "sns.boxplot(y=rawdf['age'])"
   ]
  },
  {
   "cell_type": "code",
   "execution_count": 53,
   "id": "d48b1bce",
   "metadata": {},
   "outputs": [
    {
     "data": {
      "text/plain": [
       "Private             24532\n",
       "Self-emp-not-inc     2541\n",
       "Local-gov            2093\n",
       "State-gov            1298\n",
       "Self-emp-inc         1116\n",
       "Federal-gov           960\n",
       "Without-pay            14\n",
       "Never-worked            7\n",
       "Name: workclass, dtype: int64"
      ]
     },
     "execution_count": 53,
     "metadata": {},
     "output_type": "execute_result"
    }
   ],
   "source": [
    "# WORKCLASS\n",
    "# check the column value\n",
    "rawdf[\"workclass\"].value_counts()"
   ]
  },
  {
   "cell_type": "code",
   "execution_count": 54,
   "id": "a1a20597",
   "metadata": {},
   "outputs": [
    {
     "data": {
      "image/png": "[encoded data removed]",
      "text/plain": [
       "<Figure size 900x700 with 1 Axes>"
      ]
     },
     "metadata": {},
     "output_type": "display_data"
    }
   ],
   "source": [
    "# WORKCLASS\n",
    "plt.figure(figsize=(9,7))\n",
    "rawdf[\"workclass\"].value_counts().plot.pie(autopct=\"%1.0f%%\")\n",
    "plt.show()\n",
    "# THIS PIE CHAT SHOW THE MAXIMUM WORK IN PRIVATE SECTOR/COMPANY"
   ]
  },
  {
   "cell_type": "code",
   "execution_count": 55,
   "id": "9d43b7d0",
   "metadata": {},
   "outputs": [
    {
     "data": {
      "image/png": "[encoded data removed]",
      "text/plain": [
       "<Figure size 1500x800 with 1 Axes>"
      ]
     },
     "metadata": {},
     "output_type": "display_data"
    }
   ],
   "source": [
    "# WORKCLASS COMPARE TO INCOME OF DATA\n",
    "plt.figure(figsize=(15,8))\n",
    "sns.countplot(x=rawdf['workclass'],hue=rawdf['income'])\n",
    "plt.title('WORKCLASS COMPARE TO INCOME',fontsize=20)\n",
    "plt.show()"
   ]
  },
  {
   "cell_type": "code",
   "execution_count": 56,
   "id": "644777a2",
   "metadata": {},
   "outputs": [],
   "source": [
    "# this graph show the result is privte sector are greater than the workclass all of this data frame\n",
    "# private sector more than >50k "
   ]
  },
  {
   "cell_type": "code",
   "execution_count": 57,
   "id": "56873d95",
   "metadata": {},
   "outputs": [
    {
     "data": {
      "text/plain": [
       "Male      21790\n",
       "Female    10771\n",
       "Name: sex, dtype: int64"
      ]
     },
     "execution_count": 57,
     "metadata": {},
     "output_type": "execute_result"
    }
   ],
   "source": [
    "# SEX\n",
    "rawdf['sex'].value_counts()"
   ]
  },
  {
   "cell_type": "code",
   "execution_count": 58,
   "id": "a9115018",
   "metadata": {},
   "outputs": [
    {
     "data": {
      "text/plain": [
       "(array([10771.,     0.,     0.,     0.,     0.,     0.,     0.,     0.,\n",
       "            0., 21790.]),\n",
       " array([0. , 0.1, 0.2, 0.3, 0.4, 0.5, 0.6, 0.7, 0.8, 0.9, 1. ]),\n",
       " <BarContainer object of 10 artists>)"
      ]
     },
     "execution_count": 58,
     "metadata": {},
     "output_type": "execute_result"
    },
    {
     "data": {
      "image/png": "[encoded data removed]",
      "text/plain": [
       "<Figure size 640x480 with 1 Axes>"
      ]
     },
     "metadata": {},
     "output_type": "display_data"
    }
   ],
   "source": [
    "plt.hist(rawdf['sex'])\n"
   ]
  },
  {
   "cell_type": "code",
   "execution_count": 59,
   "id": "b1d59b29",
   "metadata": {},
   "outputs": [
    {
     "data": {
      "image/png": "[encoded data removed]",
      "text/plain": [
       "<Figure size 700x300 with 1 Axes>"
      ]
     },
     "metadata": {},
     "output_type": "display_data"
    }
   ],
   "source": [
    "plt.figure(figsize=(7,3))\n",
    "sns.countplot(data=rawdf,x='sex',hue='income',palette='CMRmap_r')\n",
    "plt.show()"
   ]
  },
  {
   "cell_type": "code",
   "execution_count": 60,
   "id": "d4d79638",
   "metadata": {},
   "outputs": [
    {
     "data": {
      "text/plain": [
       "White                 27816\n",
       "Black                  3124\n",
       "Asian-Pac-Islander     1039\n",
       "Amer-Indian-Eskimo      311\n",
       "Other                   271\n",
       "Name: race, dtype: int64"
      ]
     },
     "execution_count": 60,
     "metadata": {},
     "output_type": "execute_result"
    }
   ],
   "source": [
    "# RACE\n",
    "rawdf['race'].value_counts()\n"
   ]
  },
  {
   "cell_type": "code",
   "execution_count": 61,
   "id": "1ec1e756",
   "metadata": {},
   "outputs": [
    {
     "data": {
      "image/png": "[encoded data removed]",
      "text/plain": [
       "<Figure size 800x500 with 1 Axes>"
      ]
     },
     "metadata": {},
     "output_type": "display_data"
    }
   ],
   "source": [
    "plt.figure(figsize=(8,5))\n",
    "rawdf['race'].value_counts().plot.pie(autopct='%1.0f%%')\n",
    "plt.show()"
   ]
  },
  {
   "cell_type": "code",
   "execution_count": 62,
   "id": "e8891782",
   "metadata": {},
   "outputs": [
    {
     "name": "stderr",
     "output_type": "stream",
     "text": [
      "C:\\Users\\15-R\\anaconda3.a\\lib\\site-packages\\seaborn\\_decorators.py:36: FutureWarning: Pass the following variable as a keyword arg: x. From version 0.12, the only valid positional argument will be `data`, and passing other arguments without an explicit keyword will result in an error or misinterpretation.\n",
      "  warnings.warn(\n"
     ]
    },
    {
     "data": {
      "image/png": "[encoded data removed]",
      "text/plain": [
       "<Figure size 800x600 with 1 Axes>"
      ]
     },
     "metadata": {},
     "output_type": "display_data"
    }
   ],
   "source": [
    "plt.figure(figsize=(8,6))\n",
    "sns.countplot(rawdf['race'],hue=rawdf['income'])\n",
    "plt.title('RACE COMPARE TO INCOME',fontsize=20)\n",
    "plt.show()"
   ]
  },
  {
   "cell_type": "code",
   "execution_count": 63,
   "id": "34dd0d6c",
   "metadata": {},
   "outputs": [
    {
     "data": {
      "text/plain": [
       "Male      21790\n",
       "Female    10771\n",
       "Name: sex, dtype: int64"
      ]
     },
     "execution_count": 63,
     "metadata": {},
     "output_type": "execute_result"
    }
   ],
   "source": [
    "# SEX\n",
    "rawdf['sex'].value_counts()"
   ]
  },
  {
   "cell_type": "code",
   "execution_count": 64,
   "id": "8aa43c7c",
   "metadata": {},
   "outputs": [
    {
     "data": {
      "text/plain": [
       "<AxesSubplot:ylabel='sex'>"
      ]
     },
     "execution_count": 64,
     "metadata": {},
     "output_type": "execute_result"
    },
    {
     "data": {
      "image/png": "[encoded data removed]",
      "text/plain": [
       "<Figure size 640x480 with 1 Axes>"
      ]
     },
     "metadata": {},
     "output_type": "display_data"
    }
   ],
   "source": [
    "rawdf['sex'].value_counts().plot.pie(autopct='%1.0f%%')"
   ]
  },
  {
   "cell_type": "code",
   "execution_count": 65,
   "id": "2fe499d4",
   "metadata": {},
   "outputs": [
    {
     "data": {
      "image/png": "[encoded data removed]",
      "text/plain": [
       "<Figure size 640x480 with 1 Axes>"
      ]
     },
     "metadata": {},
     "output_type": "display_data"
    }
   ],
   "source": [
    "sns.countplot(data=rawdf,x='sex')\n",
    "plt.show()"
   ]
  },
  {
   "cell_type": "code",
   "execution_count": 66,
   "id": "31c8210f",
   "metadata": {},
   "outputs": [
    {
     "data": {
      "image/png": "[encoded data removed]",
      "text/plain": [
       "<Figure size 700x500 with 1 Axes>"
      ]
     },
     "metadata": {},
     "output_type": "display_data"
    }
   ],
   "source": [
    "plt.figure(figsize=(7,5))\n",
    "sns.histplot(data=rawdf,x='sex',hue='income',palette='gist_rainbow')\n",
    "plt.show()"
   ]
  },
  {
   "cell_type": "code",
   "execution_count": 67,
   "id": "0689e05d",
   "metadata": {},
   "outputs": [
    {
     "data": {
      "text/plain": [
       "0        29849\n",
       "15024      347\n",
       "7688       284\n",
       "7298       246\n",
       "99999      159\n",
       "         ...  \n",
       "1111         1\n",
       "4931         1\n",
       "7978         1\n",
       "5060         1\n",
       "2538         1\n",
       "Name: capital.gain, Length: 119, dtype: int64"
      ]
     },
     "execution_count": 67,
     "metadata": {},
     "output_type": "execute_result"
    }
   ],
   "source": [
    "# CAPITAL GAIN\n",
    "rawdf['capital.gain'].value_counts()"
   ]
  },
  {
   "cell_type": "code",
   "execution_count": 69,
   "id": "af4c6397",
   "metadata": {},
   "outputs": [
    {
     "data": {
      "text/plain": [
       "0       31042\n",
       "1902      202\n",
       "1977      168\n",
       "1887      159\n",
       "1485       51\n",
       "        ...  \n",
       "2201        1\n",
       "2163        1\n",
       "1944        1\n",
       "1539        1\n",
       "2472        1\n",
       "Name: capital.loss, Length: 92, dtype: int64"
      ]
     },
     "execution_count": 69,
     "metadata": {},
     "output_type": "execute_result"
    }
   ],
   "source": [
    "# CAPITAL LOSS\n",
    "rawdf['capital.loss'].value_counts()"
   ]
  },
  {
   "cell_type": "code",
   "execution_count": 73,
   "id": "c30e92dd",
   "metadata": {},
   "outputs": [
    {
     "data": {
      "image/png": "[encoded data removed]",
      "text/plain": [
       "<Figure size 2500x500 with 1 Axes>"
      ]
     },
     "metadata": {},
     "output_type": "display_data"
    }
   ],
   "source": [
    "# HOURS PER WEEK\n",
    "plt.figure(figsize=(25,5))\n",
    "sns.countplot(data=rawdf,x='hours.per.week')\n",
    "plt.show()"
   ]
  },
  {
   "cell_type": "code",
   "execution_count": 74,
   "id": "57b1621d",
   "metadata": {},
   "outputs": [
    {
     "data": {
      "text/plain": [
       "United-States                 29753\n",
       "Mexico                          643\n",
       "Philippines                     198\n",
       "Germany                         137\n",
       "Canada                          121\n",
       "Puerto-Rico                     114\n",
       "El-Salvador                     106\n",
       "India                           100\n",
       "Cuba                             95\n",
       "England                          90\n",
       "Jamaica                          81\n",
       "South                            80\n",
       "China                            75\n",
       "Italy                            73\n",
       "Dominican-Republic               70\n",
       "Vietnam                          67\n",
       "Guatemala                        64\n",
       "Japan                            62\n",
       "Poland                           60\n",
       "Columbia                         59\n",
       "Taiwan                           51\n",
       "Haiti                            44\n",
       "Iran                             43\n",
       "Portugal                         37\n",
       "Nicaragua                        34\n",
       "Peru                             31\n",
       "Greece                           29\n",
       "France                           29\n",
       "Ecuador                          28\n",
       "Ireland                          24\n",
       "Hong                             20\n",
       "Trinadad&Tobago                  19\n",
       "Cambodia                         19\n",
       "Thailand                         18\n",
       "Laos                             18\n",
       "Yugoslavia                       16\n",
       "Outlying-US(Guam-USVI-etc)       14\n",
       "Hungary                          13\n",
       "Honduras                         13\n",
       "Scotland                         12\n",
       "Holand-Netherlands                1\n",
       "Name: native.country, dtype: int64"
      ]
     },
     "execution_count": 74,
     "metadata": {},
     "output_type": "execute_result"
    }
   ],
   "source": [
    "# NATIVE COUNTRY\n",
    "rawdf['native.country'].value_counts()\n",
    "# i can see the data 90% of the data is united states"
   ]
  },
  {
   "cell_type": "code",
   "execution_count": 75,
   "id": "da28463e",
   "metadata": {},
   "outputs": [],
   "source": [
    "# We are changing the united states because he hold the 90% data.\n",
    "# then remaning 10% data are replace the other country \n",
    "rawdf['native.country']=np.where(rawdf['native.country']=='United-States','US','Other_Country')"
   ]
  },
  {
   "cell_type": "code",
   "execution_count": 76,
   "id": "4f7a9383",
   "metadata": {},
   "outputs": [
    {
     "data": {
      "text/plain": [
       "US               29753\n",
       "Other_Country     2808\n",
       "Name: native.country, dtype: int64"
      ]
     },
     "execution_count": 76,
     "metadata": {},
     "output_type": "execute_result"
    }
   ],
   "source": [
    "rawdf['native.country'].value_counts()"
   ]
  },
  {
   "cell_type": "code",
   "execution_count": 77,
   "id": "7dd40e87",
   "metadata": {},
   "outputs": [],
   "source": [
    "rawdf['native.country'].replace({\"US\":0,\"Other_Country\":1},inplace=True)"
   ]
  },
  {
   "cell_type": "code",
   "execution_count": 78,
   "id": "e9e3cb06",
   "metadata": {},
   "outputs": [
    {
     "data": {
      "text/plain": [
       "0    29753\n",
       "1     2808\n",
       "Name: native.country, dtype: int64"
      ]
     },
     "execution_count": 78,
     "metadata": {},
     "output_type": "execute_result"
    }
   ],
   "source": [
    "rawdf['native.country'].value_counts()"
   ]
  },
  {
   "cell_type": "code",
   "execution_count": 79,
   "id": "faebdf0c",
   "metadata": {},
   "outputs": [],
   "source": [
    "# SEX\n",
    "rawdf['sex'].replace({\"Male\":0,\"Female\":1},inplace=True)"
   ]
  },
  {
   "cell_type": "code",
   "execution_count": 80,
   "id": "230856d3",
   "metadata": {},
   "outputs": [
    {
     "data": {
      "text/plain": [
       "0    21790\n",
       "1    10771\n",
       "Name: sex, dtype: int64"
      ]
     },
     "execution_count": 80,
     "metadata": {},
     "output_type": "execute_result"
    }
   ],
   "source": [
    "rawdf['sex'].value_counts()"
   ]
  },
  {
   "cell_type": "code",
   "execution_count": 81,
   "id": "dbeeebd6",
   "metadata": {},
   "outputs": [
    {
     "data": {
      "text/plain": [
       "Single     17562\n",
       "married    14999\n",
       "Name: marital.status, dtype: int64"
      ]
     },
     "execution_count": 81,
     "metadata": {},
     "output_type": "execute_result"
    }
   ],
   "source": [
    "rawdf['marital.status'].value_counts()"
   ]
  },
  {
   "cell_type": "code",
   "execution_count": 82,
   "id": "22173968",
   "metadata": {},
   "outputs": [],
   "source": [
    "rawdf['marital.status'].replace({\"Single\":0,\"married\":1},inplace=True)"
   ]
  },
  {
   "cell_type": "code",
   "execution_count": 83,
   "id": "ec5d1924",
   "metadata": {},
   "outputs": [
    {
     "data": {
      "text/plain": [
       "0    17562\n",
       "1    14999\n",
       "Name: marital.status, dtype: int64"
      ]
     },
     "execution_count": 83,
     "metadata": {},
     "output_type": "execute_result"
    }
   ],
   "source": [
    "rawdf['marital.status'].value_counts()"
   ]
  },
  {
   "cell_type": "code",
   "execution_count": 85,
   "id": "ccbda554",
   "metadata": {},
   "outputs": [],
   "source": [
    "rawdf['income'].replace({\"<=50K\":0,\">50K\":1},inplace=True)"
   ]
  },
  {
   "cell_type": "code",
   "execution_count": 86,
   "id": "ba3d87b4",
   "metadata": {},
   "outputs": [
    {
     "data": {
      "text/plain": [
       "0    24720\n",
       "1     7841\n",
       "Name: income, dtype: int64"
      ]
     },
     "execution_count": 86,
     "metadata": {},
     "output_type": "execute_result"
    }
   ],
   "source": [
    "rawdf['income'].value_counts()"
   ]
  },
  {
   "cell_type": "code",
   "execution_count": 87,
   "id": "bb888d68",
   "metadata": {},
   "outputs": [],
   "source": [
    "# CORRELATION"
   ]
  },
  {
   "cell_type": "code",
   "execution_count": 88,
   "id": "8f9f4c03",
   "metadata": {},
   "outputs": [
    {
     "data": {
      "text/html": [
       "<div>\n",
       "<style scoped>\n",
       "    .dataframe tbody tr th:only-of-type {\n",
       "        vertical-align: middle;\n",
       "    }\n",
       "\n",
       "    .dataframe tbody tr th {\n",
       "        vertical-align: top;\n",
       "    }\n",
       "\n",
       "    .dataframe thead th {\n",
       "        text-align: right;\n",
       "    }\n",
       "</style>\n",
       "<table border=\"1\" class=\"dataframe\">\n",
       "  <thead>\n",
       "    <tr style=\"text-align: right;\">\n",
       "      <th></th>\n",
       "      <th>age</th>\n",
       "      <th>fnlwgt</th>\n",
       "      <th>education.num</th>\n",
       "      <th>marital.status</th>\n",
       "      <th>sex</th>\n",
       "      <th>capital.gain</th>\n",
       "      <th>capital.loss</th>\n",
       "      <th>hours.per.week</th>\n",
       "      <th>native.country</th>\n",
       "      <th>income</th>\n",
       "    </tr>\n",
       "  </thead>\n",
       "  <tbody>\n",
       "    <tr>\n",
       "      <th>age</th>\n",
       "      <td>1.000000</td>\n",
       "      <td>-0.076646</td>\n",
       "      <td>0.036527</td>\n",
       "      <td>0.315009</td>\n",
       "      <td>-0.088832</td>\n",
       "      <td>0.077674</td>\n",
       "      <td>0.057775</td>\n",
       "      <td>0.068756</td>\n",
       "      <td>-0.017993</td>\n",
       "      <td>0.234037</td>\n",
       "    </tr>\n",
       "    <tr>\n",
       "      <th>fnlwgt</th>\n",
       "      <td>-0.076646</td>\n",
       "      <td>1.000000</td>\n",
       "      <td>-0.043195</td>\n",
       "      <td>-0.026381</td>\n",
       "      <td>-0.026858</td>\n",
       "      <td>0.000432</td>\n",
       "      <td>-0.010252</td>\n",
       "      <td>-0.018768</td>\n",
       "      <td>0.079790</td>\n",
       "      <td>-0.009463</td>\n",
       "    </tr>\n",
       "    <tr>\n",
       "      <th>education.num</th>\n",
       "      <td>0.036527</td>\n",
       "      <td>-0.043195</td>\n",
       "      <td>1.000000</td>\n",
       "      <td>0.086120</td>\n",
       "      <td>-0.012280</td>\n",
       "      <td>0.122630</td>\n",
       "      <td>0.079923</td>\n",
       "      <td>0.148123</td>\n",
       "      <td>-0.122965</td>\n",
       "      <td>0.335154</td>\n",
       "    </tr>\n",
       "    <tr>\n",
       "      <th>marital.status</th>\n",
       "      <td>0.315009</td>\n",
       "      <td>-0.026381</td>\n",
       "      <td>0.086120</td>\n",
       "      <td>1.000000</td>\n",
       "      <td>-0.430920</td>\n",
       "      <td>0.085739</td>\n",
       "      <td>0.080150</td>\n",
       "      <td>0.212872</td>\n",
       "      <td>0.006698</td>\n",
       "      <td>0.445289</td>\n",
       "    </tr>\n",
       "    <tr>\n",
       "      <th>sex</th>\n",
       "      <td>-0.088832</td>\n",
       "      <td>-0.026858</td>\n",
       "      <td>-0.012280</td>\n",
       "      <td>-0.430920</td>\n",
       "      <td>1.000000</td>\n",
       "      <td>-0.048480</td>\n",
       "      <td>-0.045567</td>\n",
       "      <td>-0.229309</td>\n",
       "      <td>-0.000668</td>\n",
       "      <td>-0.215980</td>\n",
       "    </tr>\n",
       "    <tr>\n",
       "      <th>capital.gain</th>\n",
       "      <td>0.077674</td>\n",
       "      <td>0.000432</td>\n",
       "      <td>0.122630</td>\n",
       "      <td>0.085739</td>\n",
       "      <td>-0.048480</td>\n",
       "      <td>1.000000</td>\n",
       "      <td>-0.031615</td>\n",
       "      <td>0.078409</td>\n",
       "      <td>-0.011299</td>\n",
       "      <td>0.223329</td>\n",
       "    </tr>\n",
       "    <tr>\n",
       "      <th>capital.loss</th>\n",
       "      <td>0.057775</td>\n",
       "      <td>-0.010252</td>\n",
       "      <td>0.079923</td>\n",
       "      <td>0.080150</td>\n",
       "      <td>-0.045567</td>\n",
       "      <td>-0.031615</td>\n",
       "      <td>1.000000</td>\n",
       "      <td>0.054256</td>\n",
       "      <td>-0.014458</td>\n",
       "      <td>0.150526</td>\n",
       "    </tr>\n",
       "    <tr>\n",
       "      <th>hours.per.week</th>\n",
       "      <td>0.068756</td>\n",
       "      <td>-0.018768</td>\n",
       "      <td>0.148123</td>\n",
       "      <td>0.212872</td>\n",
       "      <td>-0.229309</td>\n",
       "      <td>0.078409</td>\n",
       "      <td>0.054256</td>\n",
       "      <td>1.000000</td>\n",
       "      <td>-0.008217</td>\n",
       "      <td>0.229689</td>\n",
       "    </tr>\n",
       "    <tr>\n",
       "      <th>native.country</th>\n",
       "      <td>-0.017993</td>\n",
       "      <td>0.079790</td>\n",
       "      <td>-0.122965</td>\n",
       "      <td>0.006698</td>\n",
       "      <td>-0.000668</td>\n",
       "      <td>-0.011299</td>\n",
       "      <td>-0.014458</td>\n",
       "      <td>-0.008217</td>\n",
       "      <td>1.000000</td>\n",
       "      <td>-0.038942</td>\n",
       "    </tr>\n",
       "    <tr>\n",
       "      <th>income</th>\n",
       "      <td>0.234037</td>\n",
       "      <td>-0.009463</td>\n",
       "      <td>0.335154</td>\n",
       "      <td>0.445289</td>\n",
       "      <td>-0.215980</td>\n",
       "      <td>0.223329</td>\n",
       "      <td>0.150526</td>\n",
       "      <td>0.229689</td>\n",
       "      <td>-0.038942</td>\n",
       "      <td>1.000000</td>\n",
       "    </tr>\n",
       "  </tbody>\n",
       "</table>\n",
       "</div>"
      ],
      "text/plain": [
       "                     age    fnlwgt  education.num  marital.status       sex  \\\n",
       "age             1.000000 -0.076646       0.036527        0.315009 -0.088832   \n",
       "fnlwgt         -0.076646  1.000000      -0.043195       -0.026381 -0.026858   \n",
       "education.num   0.036527 -0.043195       1.000000        0.086120 -0.012280   \n",
       "marital.status  0.315009 -0.026381       0.086120        1.000000 -0.430920   \n",
       "sex            -0.088832 -0.026858      -0.012280       -0.430920  1.000000   \n",
       "capital.gain    0.077674  0.000432       0.122630        0.085739 -0.048480   \n",
       "capital.loss    0.057775 -0.010252       0.079923        0.080150 -0.045567   \n",
       "hours.per.week  0.068756 -0.018768       0.148123        0.212872 -0.229309   \n",
       "native.country -0.017993  0.079790      -0.122965        0.006698 -0.000668   \n",
       "income          0.234037 -0.009463       0.335154        0.445289 -0.215980   \n",
       "\n",
       "                capital.gain  capital.loss  hours.per.week  native.country  \\\n",
       "age                 0.077674      0.057775        0.068756       -0.017993   \n",
       "fnlwgt              0.000432     -0.010252       -0.018768        0.079790   \n",
       "education.num       0.122630      0.079923        0.148123       -0.122965   \n",
       "marital.status      0.085739      0.080150        0.212872        0.006698   \n",
       "sex                -0.048480     -0.045567       -0.229309       -0.000668   \n",
       "capital.gain        1.000000     -0.031615        0.078409       -0.011299   \n",
       "capital.loss       -0.031615      1.000000        0.054256       -0.014458   \n",
       "hours.per.week      0.078409      0.054256        1.000000       -0.008217   \n",
       "native.country     -0.011299     -0.014458       -0.008217        1.000000   \n",
       "income              0.223329      0.150526        0.229689       -0.038942   \n",
       "\n",
       "                  income  \n",
       "age             0.234037  \n",
       "fnlwgt         -0.009463  \n",
       "education.num   0.335154  \n",
       "marital.status  0.445289  \n",
       "sex            -0.215980  \n",
       "capital.gain    0.223329  \n",
       "capital.loss    0.150526  \n",
       "hours.per.week  0.229689  \n",
       "native.country -0.038942  \n",
       "income          1.000000  "
      ]
     },
     "execution_count": 88,
     "metadata": {},
     "output_type": "execute_result"
    }
   ],
   "source": [
    "# We are check the correlation. And correlation show only the continous column in the data set.\n",
    "corrdf=rawdf.corr()\n",
    "corrdf"
   ]
  },
  {
   "cell_type": "code",
   "execution_count": 89,
   "id": "19a6c14b",
   "metadata": {},
   "outputs": [
    {
     "data": {
      "text/plain": [
       "<AxesSubplot:>"
      ]
     },
     "execution_count": 89,
     "metadata": {},
     "output_type": "execute_result"
    },
    {
     "data": {
      "image/png": "[encoded data removed]",
      "text/plain": [
       "<Figure size 640x480 with 2 Axes>"
      ]
     },
     "metadata": {},
     "output_type": "display_data"
    }
   ],
   "source": [
    "# We are apply the heatmap because correlation check only heatmap.\n",
    "sns.heatmap(corrdf,cmap='rocket_r',\n",
    "           annot=True)"
   ]
  },
  {
   "cell_type": "code",
   "execution_count": 138,
   "id": "87d128b1",
   "metadata": {},
   "outputs": [
    {
     "data": {
      "text/plain": [
       "(32561, 15)"
      ]
     },
     "execution_count": 138,
     "metadata": {},
     "output_type": "execute_result"
    }
   ],
   "source": [
    "rawdf.shape"
   ]
  },
  {
   "cell_type": "code",
   "execution_count": 90,
   "id": "c0b7c13e",
   "metadata": {},
   "outputs": [],
   "source": [
    "# dummy variable creation"
   ]
  },
  {
   "cell_type": "code",
   "execution_count": 91,
   "id": "73ac1092",
   "metadata": {},
   "outputs": [
    {
     "data": {
      "text/plain": [
       "(32561, 50)"
      ]
     },
     "execution_count": 91,
     "metadata": {},
     "output_type": "execute_result"
    }
   ],
   "source": [
    "fulldf=pd.get_dummies(rawdf,drop_first=True)\n",
    "fulldf.shape"
   ]
  },
  {
   "cell_type": "code",
   "execution_count": 92,
   "id": "6fd4955c",
   "metadata": {},
   "outputs": [],
   "source": [
    "# CONSTANT"
   ]
  },
  {
   "cell_type": "code",
   "execution_count": 93,
   "id": "17e602ec",
   "metadata": {},
   "outputs": [],
   "source": [
    "# WE are apply the CONSTANT method in statsmodel \n",
    "# so We are import the constant method. \n",
    "from statsmodels.api import add_constant     "
   ]
  },
  {
   "cell_type": "code",
   "execution_count": 94,
   "id": "8c241004",
   "metadata": {},
   "outputs": [
    {
     "data": {
      "text/html": [
       "<div>\n",
       "<style scoped>\n",
       "    .dataframe tbody tr th:only-of-type {\n",
       "        vertical-align: middle;\n",
       "    }\n",
       "\n",
       "    .dataframe tbody tr th {\n",
       "        vertical-align: top;\n",
       "    }\n",
       "\n",
       "    .dataframe thead th {\n",
       "        text-align: right;\n",
       "    }\n",
       "</style>\n",
       "<table border=\"1\" class=\"dataframe\">\n",
       "  <thead>\n",
       "    <tr style=\"text-align: right;\">\n",
       "      <th></th>\n",
       "      <th>const</th>\n",
       "      <th>age</th>\n",
       "      <th>fnlwgt</th>\n",
       "      <th>education.num</th>\n",
       "      <th>marital.status</th>\n",
       "      <th>sex</th>\n",
       "      <th>capital.gain</th>\n",
       "      <th>capital.loss</th>\n",
       "      <th>hours.per.week</th>\n",
       "      <th>native.country</th>\n",
       "      <th>...</th>\n",
       "      <th>occupation_Transport-moving</th>\n",
       "      <th>relationship_Not-in-family</th>\n",
       "      <th>relationship_Other-relative</th>\n",
       "      <th>relationship_Own-child</th>\n",
       "      <th>relationship_Unmarried</th>\n",
       "      <th>relationship_Wife</th>\n",
       "      <th>race_Asian-Pac-Islander</th>\n",
       "      <th>race_Black</th>\n",
       "      <th>race_Other</th>\n",
       "      <th>race_White</th>\n",
       "    </tr>\n",
       "  </thead>\n",
       "  <tbody>\n",
       "    <tr>\n",
       "      <th>0</th>\n",
       "      <td>1.0</td>\n",
       "      <td>90</td>\n",
       "      <td>77053</td>\n",
       "      <td>9</td>\n",
       "      <td>0</td>\n",
       "      <td>1</td>\n",
       "      <td>0</td>\n",
       "      <td>4356</td>\n",
       "      <td>40</td>\n",
       "      <td>0</td>\n",
       "      <td>...</td>\n",
       "      <td>0</td>\n",
       "      <td>1</td>\n",
       "      <td>0</td>\n",
       "      <td>0</td>\n",
       "      <td>0</td>\n",
       "      <td>0</td>\n",
       "      <td>0</td>\n",
       "      <td>0</td>\n",
       "      <td>0</td>\n",
       "      <td>1</td>\n",
       "    </tr>\n",
       "    <tr>\n",
       "      <th>1</th>\n",
       "      <td>1.0</td>\n",
       "      <td>82</td>\n",
       "      <td>132870</td>\n",
       "      <td>9</td>\n",
       "      <td>0</td>\n",
       "      <td>1</td>\n",
       "      <td>0</td>\n",
       "      <td>4356</td>\n",
       "      <td>18</td>\n",
       "      <td>0</td>\n",
       "      <td>...</td>\n",
       "      <td>0</td>\n",
       "      <td>1</td>\n",
       "      <td>0</td>\n",
       "      <td>0</td>\n",
       "      <td>0</td>\n",
       "      <td>0</td>\n",
       "      <td>0</td>\n",
       "      <td>0</td>\n",
       "      <td>0</td>\n",
       "      <td>1</td>\n",
       "    </tr>\n",
       "    <tr>\n",
       "      <th>2</th>\n",
       "      <td>1.0</td>\n",
       "      <td>66</td>\n",
       "      <td>186061</td>\n",
       "      <td>10</td>\n",
       "      <td>0</td>\n",
       "      <td>1</td>\n",
       "      <td>0</td>\n",
       "      <td>4356</td>\n",
       "      <td>40</td>\n",
       "      <td>0</td>\n",
       "      <td>...</td>\n",
       "      <td>0</td>\n",
       "      <td>0</td>\n",
       "      <td>0</td>\n",
       "      <td>0</td>\n",
       "      <td>1</td>\n",
       "      <td>0</td>\n",
       "      <td>0</td>\n",
       "      <td>1</td>\n",
       "      <td>0</td>\n",
       "      <td>0</td>\n",
       "    </tr>\n",
       "    <tr>\n",
       "      <th>3</th>\n",
       "      <td>1.0</td>\n",
       "      <td>54</td>\n",
       "      <td>140359</td>\n",
       "      <td>4</td>\n",
       "      <td>0</td>\n",
       "      <td>1</td>\n",
       "      <td>0</td>\n",
       "      <td>3900</td>\n",
       "      <td>40</td>\n",
       "      <td>0</td>\n",
       "      <td>...</td>\n",
       "      <td>0</td>\n",
       "      <td>0</td>\n",
       "      <td>0</td>\n",
       "      <td>0</td>\n",
       "      <td>1</td>\n",
       "      <td>0</td>\n",
       "      <td>0</td>\n",
       "      <td>0</td>\n",
       "      <td>0</td>\n",
       "      <td>1</td>\n",
       "    </tr>\n",
       "    <tr>\n",
       "      <th>4</th>\n",
       "      <td>1.0</td>\n",
       "      <td>41</td>\n",
       "      <td>264663</td>\n",
       "      <td>10</td>\n",
       "      <td>0</td>\n",
       "      <td>1</td>\n",
       "      <td>0</td>\n",
       "      <td>3900</td>\n",
       "      <td>40</td>\n",
       "      <td>0</td>\n",
       "      <td>...</td>\n",
       "      <td>0</td>\n",
       "      <td>0</td>\n",
       "      <td>0</td>\n",
       "      <td>1</td>\n",
       "      <td>0</td>\n",
       "      <td>0</td>\n",
       "      <td>0</td>\n",
       "      <td>0</td>\n",
       "      <td>0</td>\n",
       "      <td>1</td>\n",
       "    </tr>\n",
       "  </tbody>\n",
       "</table>\n",
       "<p>5 rows × 51 columns</p>\n",
       "</div>"
      ],
      "text/plain": [
       "   const  age  fnlwgt  education.num  marital.status  sex  capital.gain  \\\n",
       "0    1.0   90   77053              9               0    1             0   \n",
       "1    1.0   82  132870              9               0    1             0   \n",
       "2    1.0   66  186061             10               0    1             0   \n",
       "3    1.0   54  140359              4               0    1             0   \n",
       "4    1.0   41  264663             10               0    1             0   \n",
       "\n",
       "   capital.loss  hours.per.week  native.country  ...  \\\n",
       "0          4356              40               0  ...   \n",
       "1          4356              18               0  ...   \n",
       "2          4356              40               0  ...   \n",
       "3          3900              40               0  ...   \n",
       "4          3900              40               0  ...   \n",
       "\n",
       "   occupation_Transport-moving  relationship_Not-in-family  \\\n",
       "0                            0                           1   \n",
       "1                            0                           1   \n",
       "2                            0                           0   \n",
       "3                            0                           0   \n",
       "4                            0                           0   \n",
       "\n",
       "   relationship_Other-relative  relationship_Own-child  \\\n",
       "0                            0                       0   \n",
       "1                            0                       0   \n",
       "2                            0                       0   \n",
       "3                            0                       0   \n",
       "4                            0                       1   \n",
       "\n",
       "   relationship_Unmarried  relationship_Wife  race_Asian-Pac-Islander  \\\n",
       "0                       0                  0                        0   \n",
       "1                       0                  0                        0   \n",
       "2                       1                  0                        0   \n",
       "3                       1                  0                        0   \n",
       "4                       0                  0                        0   \n",
       "\n",
       "   race_Black  race_Other  race_White  \n",
       "0           0           0           1  \n",
       "1           0           0           1  \n",
       "2           1           0           0  \n",
       "3           0           0           1  \n",
       "4           0           0           1  \n",
       "\n",
       "[5 rows x 51 columns]"
      ]
     },
     "execution_count": 94,
     "metadata": {},
     "output_type": "execute_result"
    }
   ],
   "source": [
    "fulldf1=add_constant(fulldf)\n",
    "fulldf1.head()"
   ]
  },
  {
   "cell_type": "code",
   "execution_count": 95,
   "id": "6584b867",
   "metadata": {},
   "outputs": [],
   "source": [
    "# splitting the data set into train & test\n",
    "# we are separte/split the train & test data ,70% to 30%"
   ]
  },
  {
   "cell_type": "code",
   "execution_count": 96,
   "id": "24053d92",
   "metadata": {},
   "outputs": [],
   "source": [
    "from sklearn.model_selection import train_test_split"
   ]
  },
  {
   "cell_type": "code",
   "execution_count": 97,
   "id": "86186378",
   "metadata": {},
   "outputs": [],
   "source": [
    "trainDf,testDf=train_test_split(fulldf1,train_size=0.7,random_state=2410)"
   ]
  },
  {
   "cell_type": "code",
   "execution_count": 99,
   "id": "a690e06c",
   "metadata": {},
   "outputs": [
    {
     "data": {
      "text/plain": [
       "(22792, 51)"
      ]
     },
     "execution_count": 99,
     "metadata": {},
     "output_type": "execute_result"
    }
   ],
   "source": [
    "trainDf.shape"
   ]
  },
  {
   "cell_type": "code",
   "execution_count": 100,
   "id": "bcfed2c7",
   "metadata": {},
   "outputs": [
    {
     "data": {
      "text/plain": [
       "(9769, 51)"
      ]
     },
     "execution_count": 100,
     "metadata": {},
     "output_type": "execute_result"
    }
   ],
   "source": [
    "testDf.shape"
   ]
  },
  {
   "cell_type": "code",
   "execution_count": 101,
   "id": "8343d811",
   "metadata": {},
   "outputs": [],
   "source": [
    "# CONVERTING INTO DEP. & INDEPENDENT VARIABLE"
   ]
  },
  {
   "cell_type": "code",
   "execution_count": 102,
   "id": "b4206a59",
   "metadata": {},
   "outputs": [],
   "source": [
    "trainX=trainDf.drop(['income'],axis=1).copy()"
   ]
  },
  {
   "cell_type": "code",
   "execution_count": 103,
   "id": "9009d9c6",
   "metadata": {},
   "outputs": [],
   "source": [
    "trainY=trainDf['income']"
   ]
  },
  {
   "cell_type": "code",
   "execution_count": 104,
   "id": "38890351",
   "metadata": {},
   "outputs": [],
   "source": [
    "testX=testDf.drop(['income'],axis=1).copy()"
   ]
  },
  {
   "cell_type": "code",
   "execution_count": 105,
   "id": "cec462fe",
   "metadata": {},
   "outputs": [],
   "source": [
    "testY=testDf['income']"
   ]
  },
  {
   "cell_type": "code",
   "execution_count": 110,
   "id": "7753c05d",
   "metadata": {},
   "outputs": [
    {
     "name": "stdout",
     "output_type": "stream",
     "text": [
      "(22792, 50)\n"
     ]
    }
   ],
   "source": [
    "print(trainX.shape)"
   ]
  },
  {
   "cell_type": "code",
   "execution_count": 111,
   "id": "3ba960af",
   "metadata": {},
   "outputs": [
    {
     "name": "stdout",
     "output_type": "stream",
     "text": [
      "(22792,)\n"
     ]
    }
   ],
   "source": [
    "print(trainY.shape)"
   ]
  },
  {
   "cell_type": "code",
   "execution_count": 112,
   "id": "a586e573",
   "metadata": {},
   "outputs": [
    {
     "name": "stdout",
     "output_type": "stream",
     "text": [
      "(9769, 50)\n"
     ]
    }
   ],
   "source": [
    "print(testX.shape)"
   ]
  },
  {
   "cell_type": "code",
   "execution_count": 113,
   "id": "a4ecfa66",
   "metadata": {},
   "outputs": [
    {
     "name": "stdout",
     "output_type": "stream",
     "text": [
      "(9769,)\n"
     ]
    }
   ],
   "source": [
    "print(testY.shape)"
   ]
  },
  {
   "cell_type": "code",
   "execution_count": 114,
   "id": "b84e7e3b",
   "metadata": {},
   "outputs": [],
   "source": [
    "#############################\n",
    "#           VIF             #\n",
    "#############################"
   ]
  },
  {
   "cell_type": "code",
   "execution_count": 115,
   "id": "f2057e68",
   "metadata": {},
   "outputs": [],
   "source": [
    "from statsmodels.stats.outliers_influence import variance_inflation_factor"
   ]
  },
  {
   "cell_type": "code",
   "execution_count": 116,
   "id": "52b492ba",
   "metadata": {},
   "outputs": [
    {
     "name": "stdout",
     "output_type": "stream",
     "text": [
      "const\n",
      "education.num\n",
      "race_White\n",
      "marital.status\n",
      "workclass_Private\n",
      "hours.per.week\n",
      "age\n",
      "education_HS-grad\n"
     ]
    },
    {
     "data": {
      "text/plain": [
       "['const',\n",
       " 'education.num',\n",
       " 'race_White',\n",
       " 'marital.status',\n",
       " 'workclass_Private',\n",
       " 'hours.per.week',\n",
       " 'age']"
      ]
     },
     "execution_count": 116,
     "metadata": {},
     "output_type": "execute_result"
    }
   ],
   "source": [
    "tempMaxVIF = 5 # The VIF that will be calculated at EVERY iteration in while loop\n",
    "maxVIFCutoff = 5 # 5 is recommended cutoff value for linear regression\n",
    "trainXCopy = trainX.copy()\n",
    "counter = 1\n",
    "highVIFColumnNames = []\n",
    "\n",
    "while (tempMaxVIF >= maxVIFCutoff):\n",
    "    \n",
    "    #print(counter)\n",
    "    \n",
    "    # Create an empty temporary df to store VIF values\n",
    "    tempVIFDf = pd.DataFrame()\n",
    "    \n",
    "    # Calculate VIF using list comprehension\n",
    "    tempVIFDf['VIF'] = [variance_inflation_factor(trainXCopy.values, i) for i in range(trainXCopy.shape[1])]\n",
    "        \n",
    "        \n",
    "   # Create a new column \"Column_Name\" to store the col names against the VIF values from list comprehension\n",
    "    tempVIFDf['Column_Name'] = trainXCopy.columns\n",
    "    \n",
    "    # Drop NA rows from the df - If there is some calculation error resulting in NAs\n",
    "    tempVIFDf.dropna(inplace=True)\n",
    "    \n",
    "    # Sort the df based on VIF values, then pick the top most column name (which has the highest VIF)\n",
    "    tempColumnName = tempVIFDf.sort_values([\"VIF\"], ascending = False).iloc[0,1]\n",
    "    # tempColumnName = tempVIFDf.sort_values([\"VIF\"], ascending = True)[-1:][\"Column_Name\"].values[0]\n",
    "    \n",
    "    # Store the max VIF value in tempMaxVIF\n",
    "    tempMaxVIF = tempVIFDf.sort_values([\"VIF\"], ascending = False).iloc[0,0]\n",
    "    # tempMaxVIF = tempVIFDf.sort_values([\"VIF\"])[-1:][\"VIF\"].values[0]\n",
    "    \n",
    "    print(tempColumnName)\n",
    "    \n",
    "    if (tempMaxVIF >= maxVIFCutoff): # This condition will ensure that columns having VIF lower than 5 are NOT dropped\n",
    "        \n",
    "        # Remove the highest VIF valued \"Column\" from trainXCopy. As the loop continues this step will keep removing highest VIF columns one by one \n",
    "        trainXCopy = trainXCopy.drop(tempColumnName, axis = 1)    \n",
    "        highVIFColumnNames.append(tempColumnName)\n",
    "    \n",
    "    counter = counter + 1\n",
    "\n",
    "highVIFColumnNames"
   ]
  },
  {
   "cell_type": "code",
   "execution_count": 117,
   "id": "671f2bef",
   "metadata": {},
   "outputs": [
    {
     "data": {
      "text/plain": [
       "['education.num',\n",
       " 'race_White',\n",
       " 'marital.status',\n",
       " 'workclass_Private',\n",
       " 'hours.per.week',\n",
       " 'age']"
      ]
     },
     "execution_count": 117,
     "metadata": {},
     "output_type": "execute_result"
    }
   ],
   "source": [
    "highVIFColumnNames.remove('const') # We need to exclude 'const' column from getting dropped/ removed. This is intercept.\n",
    "highVIFColumnNames\n"
   ]
  },
  {
   "cell_type": "code",
   "execution_count": 118,
   "id": "b199cfb0",
   "metadata": {},
   "outputs": [],
   "source": [
    "trainX.drop(highVIFColumnNames,axis=1,inplace=True)\n",
    "testX.drop(highVIFColumnNames,axis=1,inplace=True)"
   ]
  },
  {
   "cell_type": "code",
   "execution_count": 119,
   "id": "38dc57e7",
   "metadata": {},
   "outputs": [
    {
     "name": "stdout",
     "output_type": "stream",
     "text": [
      "(22792, 44)\n"
     ]
    }
   ],
   "source": [
    "print(trainX.shape)"
   ]
  },
  {
   "cell_type": "code",
   "execution_count": 120,
   "id": "00b89a1a",
   "metadata": {},
   "outputs": [
    {
     "name": "stdout",
     "output_type": "stream",
     "text": [
      "(9769, 44)\n"
     ]
    }
   ],
   "source": [
    "print(testX.shape)"
   ]
  },
  {
   "cell_type": "code",
   "execution_count": 121,
   "id": "c45cd552",
   "metadata": {},
   "outputs": [],
   "source": [
    "# model building"
   ]
  },
  {
   "cell_type": "code",
   "execution_count": 140,
   "id": "4c1ebaef",
   "metadata": {},
   "outputs": [],
   "source": [
    "# We are import the logit method.\n",
    "from statsmodels.api import Logit"
   ]
  },
  {
   "cell_type": "code",
   "execution_count": 141,
   "id": "e1c34cfe",
   "metadata": {},
   "outputs": [
    {
     "name": "stdout",
     "output_type": "stream",
     "text": [
      "Warning: Maximum number of iterations has been exceeded.\n",
      "         Current function value: 0.331459\n",
      "         Iterations: 35\n"
     ]
    },
    {
     "name": "stderr",
     "output_type": "stream",
     "text": [
      "C:\\Users\\15-R\\anaconda3.a\\lib\\site-packages\\statsmodels\\base\\model.py:604: ConvergenceWarning: Maximum Likelihood optimization failed to converge. Check mle_retvals\n",
      "  warnings.warn(\"Maximum Likelihood optimization failed to \"\n"
     ]
    }
   ],
   "source": [
    "M1=Logit(trainY,trainX).fit()  # dep var,indep var."
   ]
  },
  {
   "cell_type": "code",
   "execution_count": 142,
   "id": "789dbea8",
   "metadata": {},
   "outputs": [
    {
     "data": {
      "text/html": [
       "<table class=\"simpletable\">\n",
       "<caption>Logit Regression Results</caption>\n",
       "<tr>\n",
       "  <th>Dep. Variable:</th>        <td>income</td>      <th>  No. Observations:  </th>  <td> 22792</td> \n",
       "</tr>\n",
       "<tr>\n",
       "  <th>Model:</th>                 <td>Logit</td>      <th>  Df Residuals:      </th>  <td> 22748</td> \n",
       "</tr>\n",
       "<tr>\n",
       "  <th>Method:</th>                 <td>MLE</td>       <th>  Df Model:          </th>  <td>    43</td> \n",
       "</tr>\n",
       "<tr>\n",
       "  <th>Date:</th>            <td>Mon, 12 Jun 2023</td> <th>  Pseudo R-squ.:     </th>  <td>0.4008</td> \n",
       "</tr>\n",
       "<tr>\n",
       "  <th>Time:</th>                <td>23:30:56</td>     <th>  Log-Likelihood:    </th> <td> -7554.6</td>\n",
       "</tr>\n",
       "<tr>\n",
       "  <th>converged:</th>             <td>False</td>      <th>  LL-Null:           </th> <td> -12608.</td>\n",
       "</tr>\n",
       "<tr>\n",
       "  <th>Covariance Type:</th>     <td>nonrobust</td>    <th>  LLR p-value:       </th>  <td> 0.000</td> \n",
       "</tr>\n",
       "</table>\n",
       "<table class=\"simpletable\">\n",
       "<tr>\n",
       "                <td></td>                  <th>coef</th>     <th>std err</th>      <th>z</th>      <th>P>|z|</th>  <th>[0.025</th>    <th>0.975]</th>  \n",
       "</tr>\n",
       "<tr>\n",
       "  <th>const</th>                        <td>   -2.2326</td> <td>    0.186</td> <td>  -11.985</td> <td> 0.000</td> <td>   -2.598</td> <td>   -1.867</td>\n",
       "</tr>\n",
       "<tr>\n",
       "  <th>fnlwgt</th>                       <td> 5.919e-07</td> <td> 1.96e-07</td> <td>    3.018</td> <td> 0.003</td> <td> 2.07e-07</td> <td> 9.76e-07</td>\n",
       "</tr>\n",
       "<tr>\n",
       "  <th>sex</th>                          <td>   -0.7785</td> <td>    0.089</td> <td>   -8.703</td> <td> 0.000</td> <td>   -0.954</td> <td>   -0.603</td>\n",
       "</tr>\n",
       "<tr>\n",
       "  <th>capital.gain</th>                 <td>    0.0003</td> <td>  1.2e-05</td> <td>   25.758</td> <td> 0.000</td> <td>    0.000</td> <td>    0.000</td>\n",
       "</tr>\n",
       "<tr>\n",
       "  <th>capital.loss</th>                 <td>    0.0007</td> <td> 4.38e-05</td> <td>   15.412</td> <td> 0.000</td> <td>    0.001</td> <td>    0.001</td>\n",
       "</tr>\n",
       "<tr>\n",
       "  <th>native.country</th>               <td>   -0.3007</td> <td>    0.090</td> <td>   -3.329</td> <td> 0.001</td> <td>   -0.478</td> <td>   -0.124</td>\n",
       "</tr>\n",
       "<tr>\n",
       "  <th>workclass_Local-gov</th>          <td>   -0.1365</td> <td>    0.084</td> <td>   -1.624</td> <td> 0.104</td> <td>   -0.301</td> <td>    0.028</td>\n",
       "</tr>\n",
       "<tr>\n",
       "  <th>workclass_Never-worked</th>       <td>  -16.9872</td> <td> 9762.191</td> <td>   -0.002</td> <td> 0.999</td> <td>-1.92e+04</td> <td> 1.91e+04</td>\n",
       "</tr>\n",
       "<tr>\n",
       "  <th>workclass_Self-emp-inc</th>       <td>    0.3376</td> <td>    0.099</td> <td>    3.425</td> <td> 0.001</td> <td>    0.144</td> <td>    0.531</td>\n",
       "</tr>\n",
       "<tr>\n",
       "  <th>workclass_Self-emp-not-inc</th>   <td>   -0.3111</td> <td>    0.073</td> <td>   -4.263</td> <td> 0.000</td> <td>   -0.454</td> <td>   -0.168</td>\n",
       "</tr>\n",
       "<tr>\n",
       "  <th>workclass_State-gov</th>          <td>   -0.3852</td> <td>    0.105</td> <td>   -3.658</td> <td> 0.000</td> <td>   -0.592</td> <td>   -0.179</td>\n",
       "</tr>\n",
       "<tr>\n",
       "  <th>workclass_Without-pay</th>        <td>  -97.6242</td> <td>  1.7e+21</td> <td>-5.75e-20</td> <td> 1.000</td> <td>-3.33e+21</td> <td> 3.33e+21</td>\n",
       "</tr>\n",
       "<tr>\n",
       "  <th>education_9th-12th</th>           <td>    0.2512</td> <td>    0.193</td> <td>    1.301</td> <td> 0.193</td> <td>   -0.127</td> <td>    0.630</td>\n",
       "</tr>\n",
       "<tr>\n",
       "  <th>education_Assoc-acdm</th>         <td>    1.6092</td> <td>    0.195</td> <td>    8.258</td> <td> 0.000</td> <td>    1.227</td> <td>    1.991</td>\n",
       "</tr>\n",
       "<tr>\n",
       "  <th>education_Assoc-voc</th>          <td>    1.6154</td> <td>    0.186</td> <td>    8.684</td> <td> 0.000</td> <td>    1.251</td> <td>    1.980</td>\n",
       "</tr>\n",
       "<tr>\n",
       "  <th>education_Bachelors</th>          <td>    2.1545</td> <td>    0.171</td> <td>   12.598</td> <td> 0.000</td> <td>    1.819</td> <td>    2.490</td>\n",
       "</tr>\n",
       "<tr>\n",
       "  <th>education_Doctorate</th>          <td>    3.3053</td> <td>    0.239</td> <td>   13.839</td> <td> 0.000</td> <td>    2.837</td> <td>    3.773</td>\n",
       "</tr>\n",
       "<tr>\n",
       "  <th>education_HS-grad</th>            <td>    1.0981</td> <td>    0.167</td> <td>    6.573</td> <td> 0.000</td> <td>    0.771</td> <td>    1.425</td>\n",
       "</tr>\n",
       "<tr>\n",
       "  <th>education_Masters</th>            <td>    2.6694</td> <td>    0.184</td> <td>   14.470</td> <td> 0.000</td> <td>    2.308</td> <td>    3.031</td>\n",
       "</tr>\n",
       "<tr>\n",
       "  <th>education_Preschool</th>          <td>  -17.7250</td> <td> 6357.879</td> <td>   -0.003</td> <td> 0.998</td> <td>-1.25e+04</td> <td> 1.24e+04</td>\n",
       "</tr>\n",
       "<tr>\n",
       "  <th>education_Prof-school</th>        <td>    3.0372</td> <td>    0.221</td> <td>   13.722</td> <td> 0.000</td> <td>    2.603</td> <td>    3.471</td>\n",
       "</tr>\n",
       "<tr>\n",
       "  <th>education_Some-college</th>       <td>    1.3555</td> <td>    0.169</td> <td>    8.001</td> <td> 0.000</td> <td>    1.023</td> <td>    1.688</td>\n",
       "</tr>\n",
       "<tr>\n",
       "  <th>occupation_Armed-Forces</th>      <td>   -0.5845</td> <td>    1.658</td> <td>   -0.352</td> <td> 0.725</td> <td>   -3.835</td> <td>    2.666</td>\n",
       "</tr>\n",
       "<tr>\n",
       "  <th>occupation_Craft-repair</th>      <td>    0.0608</td> <td>    0.093</td> <td>    0.656</td> <td> 0.512</td> <td>   -0.121</td> <td>    0.243</td>\n",
       "</tr>\n",
       "<tr>\n",
       "  <th>occupation_Exec-managerial</th>   <td>    0.9073</td> <td>    0.090</td> <td>   10.121</td> <td> 0.000</td> <td>    0.732</td> <td>    1.083</td>\n",
       "</tr>\n",
       "<tr>\n",
       "  <th>occupation_Farming-fishing</th>   <td>   -0.6920</td> <td>    0.160</td> <td>   -4.338</td> <td> 0.000</td> <td>   -1.005</td> <td>   -0.379</td>\n",
       "</tr>\n",
       "<tr>\n",
       "  <th>occupation_Handlers-cleaners</th> <td>   -0.8351</td> <td>    0.168</td> <td>   -4.967</td> <td> 0.000</td> <td>   -1.165</td> <td>   -0.506</td>\n",
       "</tr>\n",
       "<tr>\n",
       "  <th>occupation_Machine-op-inspct</th> <td>   -0.3851</td> <td>    0.119</td> <td>   -3.230</td> <td> 0.001</td> <td>   -0.619</td> <td>   -0.151</td>\n",
       "</tr>\n",
       "<tr>\n",
       "  <th>occupation_Other-service</th>     <td>   -0.8110</td> <td>    0.136</td> <td>   -5.969</td> <td> 0.000</td> <td>   -1.077</td> <td>   -0.545</td>\n",
       "</tr>\n",
       "<tr>\n",
       "  <th>occupation_Priv-house-serv</th>   <td>   -3.5023</td> <td>    1.780</td> <td>   -1.968</td> <td> 0.049</td> <td>   -6.990</td> <td>   -0.015</td>\n",
       "</tr>\n",
       "<tr>\n",
       "  <th>occupation_Pro-specialty</th>     <td>   -0.5634</td> <td>    0.135</td> <td>   -4.173</td> <td> 0.000</td> <td>   -0.828</td> <td>   -0.299</td>\n",
       "</tr>\n",
       "<tr>\n",
       "  <th>occupation_Prof-specialty</th>    <td>    0.5280</td> <td>    0.094</td> <td>    5.611</td> <td> 0.000</td> <td>    0.344</td> <td>    0.712</td>\n",
       "</tr>\n",
       "<tr>\n",
       "  <th>occupation_Protective-serv</th>   <td>    0.6956</td> <td>    0.145</td> <td>    4.811</td> <td> 0.000</td> <td>    0.412</td> <td>    0.979</td>\n",
       "</tr>\n",
       "<tr>\n",
       "  <th>occupation_Sales</th>             <td>    0.3579</td> <td>    0.094</td> <td>    3.791</td> <td> 0.000</td> <td>    0.173</td> <td>    0.543</td>\n",
       "</tr>\n",
       "<tr>\n",
       "  <th>occupation_Tech-support</th>      <td>    0.6604</td> <td>    0.127</td> <td>    5.205</td> <td> 0.000</td> <td>    0.412</td> <td>    0.909</td>\n",
       "</tr>\n",
       "<tr>\n",
       "  <th>occupation_Transport-moving</th>  <td>    0.0262</td> <td>    0.114</td> <td>    0.230</td> <td> 0.818</td> <td>   -0.197</td> <td>    0.250</td>\n",
       "</tr>\n",
       "<tr>\n",
       "  <th>relationship_Not-in-family</th>   <td>   -1.9557</td> <td>    0.066</td> <td>  -29.815</td> <td> 0.000</td> <td>   -2.084</td> <td>   -1.827</td>\n",
       "</tr>\n",
       "<tr>\n",
       "  <th>relationship_Other-relative</th>  <td>   -2.3112</td> <td>    0.223</td> <td>  -10.349</td> <td> 0.000</td> <td>   -2.749</td> <td>   -1.873</td>\n",
       "</tr>\n",
       "<tr>\n",
       "  <th>relationship_Own-child</th>       <td>   -3.5687</td> <td>    0.166</td> <td>  -21.536</td> <td> 0.000</td> <td>   -3.893</td> <td>   -3.244</td>\n",
       "</tr>\n",
       "<tr>\n",
       "  <th>relationship_Unmarried</th>       <td>   -1.9414</td> <td>    0.115</td> <td>  -16.910</td> <td> 0.000</td> <td>   -2.166</td> <td>   -1.716</td>\n",
       "</tr>\n",
       "<tr>\n",
       "  <th>relationship_Wife</th>            <td>    1.0212</td> <td>    0.117</td> <td>    8.733</td> <td> 0.000</td> <td>    0.792</td> <td>    1.250</td>\n",
       "</tr>\n",
       "<tr>\n",
       "  <th>race_Asian-Pac-Islander</th>      <td>   -0.1592</td> <td>    0.135</td> <td>   -1.177</td> <td> 0.239</td> <td>   -0.424</td> <td>    0.106</td>\n",
       "</tr>\n",
       "<tr>\n",
       "  <th>race_Black</th>                   <td>   -0.1650</td> <td>    0.087</td> <td>   -1.905</td> <td> 0.057</td> <td>   -0.335</td> <td>    0.005</td>\n",
       "</tr>\n",
       "<tr>\n",
       "  <th>race_Other</th>                   <td>   -0.4214</td> <td>    0.289</td> <td>   -1.459</td> <td> 0.145</td> <td>   -0.988</td> <td>    0.145</td>\n",
       "</tr>\n",
       "</table>"
      ],
      "text/plain": [
       "<class 'statsmodels.iolib.summary.Summary'>\n",
       "\"\"\"\n",
       "                           Logit Regression Results                           \n",
       "==============================================================================\n",
       "Dep. Variable:                 income   No. Observations:                22792\n",
       "Model:                          Logit   Df Residuals:                    22748\n",
       "Method:                           MLE   Df Model:                           43\n",
       "Date:                Mon, 12 Jun 2023   Pseudo R-squ.:                  0.4008\n",
       "Time:                        23:30:56   Log-Likelihood:                -7554.6\n",
       "converged:                      False   LL-Null:                       -12608.\n",
       "Covariance Type:            nonrobust   LLR p-value:                     0.000\n",
       "================================================================================================\n",
       "                                   coef    std err          z      P>|z|      [0.025      0.975]\n",
       "------------------------------------------------------------------------------------------------\n",
       "const                           -2.2326      0.186    -11.985      0.000      -2.598      -1.867\n",
       "fnlwgt                        5.919e-07   1.96e-07      3.018      0.003    2.07e-07    9.76e-07\n",
       "sex                             -0.7785      0.089     -8.703      0.000      -0.954      -0.603\n",
       "capital.gain                     0.0003    1.2e-05     25.758      0.000       0.000       0.000\n",
       "capital.loss                     0.0007   4.38e-05     15.412      0.000       0.001       0.001\n",
       "native.country                  -0.3007      0.090     -3.329      0.001      -0.478      -0.124\n",
       "workclass_Local-gov             -0.1365      0.084     -1.624      0.104      -0.301       0.028\n",
       "workclass_Never-worked         -16.9872   9762.191     -0.002      0.999   -1.92e+04    1.91e+04\n",
       "workclass_Self-emp-inc           0.3376      0.099      3.425      0.001       0.144       0.531\n",
       "workclass_Self-emp-not-inc      -0.3111      0.073     -4.263      0.000      -0.454      -0.168\n",
       "workclass_State-gov             -0.3852      0.105     -3.658      0.000      -0.592      -0.179\n",
       "workclass_Without-pay          -97.6242    1.7e+21  -5.75e-20      1.000   -3.33e+21    3.33e+21\n",
       "education_9th-12th               0.2512      0.193      1.301      0.193      -0.127       0.630\n",
       "education_Assoc-acdm             1.6092      0.195      8.258      0.000       1.227       1.991\n",
       "education_Assoc-voc              1.6154      0.186      8.684      0.000       1.251       1.980\n",
       "education_Bachelors              2.1545      0.171     12.598      0.000       1.819       2.490\n",
       "education_Doctorate              3.3053      0.239     13.839      0.000       2.837       3.773\n",
       "education_HS-grad                1.0981      0.167      6.573      0.000       0.771       1.425\n",
       "education_Masters                2.6694      0.184     14.470      0.000       2.308       3.031\n",
       "education_Preschool            -17.7250   6357.879     -0.003      0.998   -1.25e+04    1.24e+04\n",
       "education_Prof-school            3.0372      0.221     13.722      0.000       2.603       3.471\n",
       "education_Some-college           1.3555      0.169      8.001      0.000       1.023       1.688\n",
       "occupation_Armed-Forces         -0.5845      1.658     -0.352      0.725      -3.835       2.666\n",
       "occupation_Craft-repair          0.0608      0.093      0.656      0.512      -0.121       0.243\n",
       "occupation_Exec-managerial       0.9073      0.090     10.121      0.000       0.732       1.083\n",
       "occupation_Farming-fishing      -0.6920      0.160     -4.338      0.000      -1.005      -0.379\n",
       "occupation_Handlers-cleaners    -0.8351      0.168     -4.967      0.000      -1.165      -0.506\n",
       "occupation_Machine-op-inspct    -0.3851      0.119     -3.230      0.001      -0.619      -0.151\n",
       "occupation_Other-service        -0.8110      0.136     -5.969      0.000      -1.077      -0.545\n",
       "occupation_Priv-house-serv      -3.5023      1.780     -1.968      0.049      -6.990      -0.015\n",
       "occupation_Pro-specialty        -0.5634      0.135     -4.173      0.000      -0.828      -0.299\n",
       "occupation_Prof-specialty        0.5280      0.094      5.611      0.000       0.344       0.712\n",
       "occupation_Protective-serv       0.6956      0.145      4.811      0.000       0.412       0.979\n",
       "occupation_Sales                 0.3579      0.094      3.791      0.000       0.173       0.543\n",
       "occupation_Tech-support          0.6604      0.127      5.205      0.000       0.412       0.909\n",
       "occupation_Transport-moving      0.0262      0.114      0.230      0.818      -0.197       0.250\n",
       "relationship_Not-in-family      -1.9557      0.066    -29.815      0.000      -2.084      -1.827\n",
       "relationship_Other-relative     -2.3112      0.223    -10.349      0.000      -2.749      -1.873\n",
       "relationship_Own-child          -3.5687      0.166    -21.536      0.000      -3.893      -3.244\n",
       "relationship_Unmarried          -1.9414      0.115    -16.910      0.000      -2.166      -1.716\n",
       "relationship_Wife                1.0212      0.117      8.733      0.000       0.792       1.250\n",
       "race_Asian-Pac-Islander         -0.1592      0.135     -1.177      0.239      -0.424       0.106\n",
       "race_Black                      -0.1650      0.087     -1.905      0.057      -0.335       0.005\n",
       "race_Other                      -0.4214      0.289     -1.459      0.145      -0.988       0.145\n",
       "================================================================================================\n",
       "\"\"\""
      ]
     },
     "execution_count": 142,
     "metadata": {},
     "output_type": "execute_result"
    }
   ],
   "source": [
    "M1.summary()  #  summary- we can see the model summary\n",
    "\n",
    "# Dep. Variable:\tincome\tNo. Observations:\t22792\n",
    "# Model:\tLogit\tDf Residuals:\t22748\n",
    "# Method:\tMLE\tDf Model:\t43\n",
    "# Date:\tMon, 12 Jun 2023\tPseudo R-squ.:\t0.4008\n",
    "# Time:\t23:30:56\tLog-Likelihood:\t-7554.6\n",
    "# converged:\tFalse\tLL-Null:\t-12608.\n",
    "# Covariance Type:\tnonrobust\tLLR p-value:\t0.000\n"
   ]
  },
  {
   "cell_type": "code",
   "execution_count": 144,
   "id": "28ed5e35",
   "metadata": {},
   "outputs": [
    {
     "data": {
      "text/plain": [
       "const                            4.279952e-33\n",
       "fnlwgt                           2.548478e-03\n",
       "sex                              3.237754e-18\n",
       "capital.gain                    2.614174e-146\n",
       "capital.loss                     1.360724e-53\n",
       "native.country                   8.708687e-04\n",
       "workclass_Local-gov              1.044730e-01\n",
       "workclass_Never-worked           9.986116e-01\n",
       "workclass_Self-emp-inc           6.150284e-04\n",
       "workclass_Self-emp-not-inc       2.013673e-05\n",
       "workclass_State-gov              2.545697e-04\n",
       "workclass_Without-pay            1.000000e+00\n",
       "education_9th-12th               1.930960e-01\n",
       "education_Assoc-acdm             1.478826e-16\n",
       "education_Assoc-voc              3.808194e-18\n",
       "education_Bachelors              2.174031e-36\n",
       "education_Doctorate              1.492052e-43\n",
       "education_HS-grad                4.933808e-11\n",
       "education_Masters                1.877648e-47\n",
       "education_Preschool              9.977756e-01\n",
       "education_Prof-school            7.520949e-43\n",
       "education_Some-college           1.232941e-15\n",
       "occupation_Armed-Forces          7.245142e-01\n",
       "occupation_Craft-repair          5.121082e-01\n",
       "occupation_Exec-managerial       4.473690e-24\n",
       "occupation_Farming-fishing       1.439420e-05\n",
       "occupation_Handlers-cleaners     6.784329e-07\n",
       "occupation_Machine-op-inspct     1.239290e-03\n",
       "occupation_Other-service         2.383849e-09\n",
       "occupation_Priv-house-serv       4.905181e-02\n",
       "occupation_Pro-specialty         3.006781e-05\n",
       "occupation_Prof-specialty        2.010948e-08\n",
       "occupation_Protective-serv       1.498600e-06\n",
       "occupation_Sales                 1.501464e-04\n",
       "occupation_Tech-support          1.938702e-07\n",
       "occupation_Transport-moving      8.180714e-01\n",
       "relationship_Not-in-family      2.494728e-195\n",
       "relationship_Other-relative      4.249243e-25\n",
       "relationship_Own-child          7.195369e-103\n",
       "relationship_Unmarried           3.783817e-64\n",
       "relationship_Wife                2.470508e-18\n",
       "race_Asian-Pac-Islander          2.392287e-01\n",
       "race_Black                       5.678386e-02\n",
       "race_Other                       1.446367e-01\n",
       "dtype: float64"
      ]
     },
     "execution_count": 144,
     "metadata": {},
     "output_type": "execute_result"
    }
   ],
   "source": [
    "M1.pvalues"
   ]
  },
  {
   "cell_type": "code",
   "execution_count": 145,
   "id": "fef59acd",
   "metadata": {},
   "outputs": [],
   "source": [
    "####################################\n",
    "# model optimization \n",
    "####################################"
   ]
  },
  {
   "cell_type": "code",
   "execution_count": 146,
   "id": "11c382f2",
   "metadata": {},
   "outputs": [
    {
     "name": "stdout",
     "output_type": "stream",
     "text": [
      "1\n",
      "Warning: Maximum number of iterations has been exceeded.\n",
      "         Current function value: 0.331459\n",
      "         Iterations: 35\n"
     ]
    },
    {
     "name": "stderr",
     "output_type": "stream",
     "text": [
      "C:\\Users\\15-R\\anaconda3.a\\lib\\site-packages\\statsmodels\\base\\model.py:604: ConvergenceWarning: Maximum Likelihood optimization failed to converge. Check mle_retvals\n",
      "  warnings.warn(\"Maximum Likelihood optimization failed to \"\n"
     ]
    },
    {
     "name": "stdout",
     "output_type": "stream",
     "text": [
      "workclass_Without-pay 1.0\n",
      "2\n",
      "Warning: Maximum number of iterations has been exceeded.\n",
      "         Current function value: 0.331492\n",
      "         Iterations: 35\n",
      "workclass_Never-worked 0.9999876973476075\n",
      "3\n"
     ]
    },
    {
     "name": "stderr",
     "output_type": "stream",
     "text": [
      "C:\\Users\\15-R\\anaconda3.a\\lib\\site-packages\\statsmodels\\base\\model.py:604: ConvergenceWarning: Maximum Likelihood optimization failed to converge. Check mle_retvals\n",
      "  warnings.warn(\"Maximum Likelihood optimization failed to \"\n"
     ]
    },
    {
     "name": "stdout",
     "output_type": "stream",
     "text": [
      "Warning: Maximum number of iterations has been exceeded.\n",
      "         Current function value: 0.331502\n",
      "         Iterations: 35\n"
     ]
    },
    {
     "name": "stderr",
     "output_type": "stream",
     "text": [
      "C:\\Users\\15-R\\anaconda3.a\\lib\\site-packages\\statsmodels\\base\\model.py:604: ConvergenceWarning: Maximum Likelihood optimization failed to converge. Check mle_retvals\n",
      "  warnings.warn(\"Maximum Likelihood optimization failed to \"\n"
     ]
    },
    {
     "name": "stdout",
     "output_type": "stream",
     "text": [
      "education_Preschool 0.9977768026898504\n",
      "4\n",
      "Optimization terminated successfully.\n",
      "         Current function value: 0.331553\n",
      "         Iterations 10\n",
      "occupation_Transport-moving 0.7991781808388918\n",
      "5\n",
      "Optimization terminated successfully.\n",
      "         Current function value: 0.331554\n",
      "         Iterations 10\n",
      "occupation_Armed-Forces 0.7189200051760745\n",
      "6\n",
      "Optimization terminated successfully.\n",
      "         Current function value: 0.331557\n",
      "         Iterations 10\n",
      "occupation_Craft-repair 0.5145134881405766\n",
      "7\n",
      "Optimization terminated successfully.\n",
      "         Current function value: 0.331567\n",
      "         Iterations 10\n",
      "race_Asian-Pac-Islander 0.21586336735646805\n",
      "8\n",
      "Optimization terminated successfully.\n",
      "         Current function value: 0.331601\n",
      "         Iterations 10\n",
      "education_9th-12th 0.1580812381704756\n",
      "9\n",
      "Optimization terminated successfully.\n",
      "         Current function value: 0.331645\n",
      "         Iterations 10\n",
      "race_Other 0.1494701596470924\n",
      "10\n",
      "Optimization terminated successfully.\n",
      "         Current function value: 0.331694\n",
      "         Iterations 10\n",
      "workclass_Local-gov 0.10524434289813565\n",
      "11\n",
      "Optimization terminated successfully.\n",
      "         Current function value: 0.331752\n",
      "         Iterations 10\n"
     ]
    }
   ],
   "source": [
    "tempMaxPValue = 0.1\n",
    "maxPValueCutoff = 0.1\n",
    "trainXCopy = trainX.copy()\n",
    "counter = 1\n",
    "highPValueColumnNames = []\n",
    "\n",
    "\n",
    "while (tempMaxPValue >= maxPValueCutoff):\n",
    "    \n",
    "    print(counter)    \n",
    "    \n",
    "\n",
    "\n",
    "    tempModelDf = pd.DataFrame()    \n",
    "    Model = Logit(trainY, trainXCopy).fit()\n",
    "    tempModelDf['PValue'] = Model.pvalues\n",
    "    tempModelDf['Column_Name'] = trainXCopy.columns\n",
    "    tempModelDf.dropna(inplace=True) # If there is some calculation error resulting in NAs\n",
    "    tempColumnName = tempModelDf.sort_values([\"PValue\"], ascending = False).iloc[0,1]\n",
    "    tempMaxPValue = tempModelDf.sort_values([\"PValue\"], ascending = False).iloc[0,0]\n",
    "    \n",
    "    if (tempMaxPValue >= maxPValueCutoff): # This condition will ensure that ONLY columns having p-value lower than 0.1 are NOT dropped\n",
    "        print(tempColumnName, tempMaxPValue)    \n",
    "        trainXCopy = trainXCopy.drop(tempColumnName, axis = 1)    \n",
    "        highPValueColumnNames.append(tempColumnName)\n",
    "    \n",
    "    counter = counter + 1\n"
   ]
  },
  {
   "cell_type": "code",
   "execution_count": 147,
   "id": "6a7da838",
   "metadata": {},
   "outputs": [
    {
     "data": {
      "text/plain": [
       "['workclass_Without-pay',\n",
       " 'workclass_Never-worked',\n",
       " 'education_Preschool',\n",
       " 'occupation_Transport-moving',\n",
       " 'occupation_Armed-Forces',\n",
       " 'occupation_Craft-repair',\n",
       " 'race_Asian-Pac-Islander',\n",
       " 'education_9th-12th',\n",
       " 'race_Other',\n",
       " 'workclass_Local-gov']"
      ]
     },
     "execution_count": 147,
     "metadata": {},
     "output_type": "execute_result"
    }
   ],
   "source": [
    "highPValueColumnNames"
   ]
  },
  {
   "cell_type": "code",
   "execution_count": 148,
   "id": "8e470682",
   "metadata": {},
   "outputs": [],
   "source": [
    "# drop the insignificant columns\n",
    "trainX=trainX.drop(highPValueColumnNames,axis=1)\n",
    "testX=testX.drop(highPValueColumnNames,axis=1)"
   ]
  },
  {
   "cell_type": "code",
   "execution_count": 149,
   "id": "2981588e",
   "metadata": {},
   "outputs": [
    {
     "data": {
      "text/plain": [
       "(22792, 34)"
      ]
     },
     "execution_count": 149,
     "metadata": {},
     "output_type": "execute_result"
    }
   ],
   "source": [
    "trainX.shape"
   ]
  },
  {
   "cell_type": "code",
   "execution_count": 150,
   "id": "3ba9931a",
   "metadata": {},
   "outputs": [
    {
     "data": {
      "text/plain": [
       "(9769, 34)"
      ]
     },
     "execution_count": 150,
     "metadata": {},
     "output_type": "execute_result"
    }
   ],
   "source": [
    "testX.shape"
   ]
  },
  {
   "cell_type": "code",
   "execution_count": 151,
   "id": "f4e233d0",
   "metadata": {},
   "outputs": [],
   "source": [
    "###### final Model #########"
   ]
  },
  {
   "cell_type": "code",
   "execution_count": 152,
   "id": "cd14d314",
   "metadata": {},
   "outputs": [
    {
     "name": "stdout",
     "output_type": "stream",
     "text": [
      "Optimization terminated successfully.\n",
      "         Current function value: 0.331752\n",
      "         Iterations 10\n"
     ]
    }
   ],
   "source": [
    "FinalModel=Logit(trainY,trainX).fit()"
   ]
  },
  {
   "cell_type": "code",
   "execution_count": 153,
   "id": "921b1c84",
   "metadata": {},
   "outputs": [],
   "source": [
    "### prediction"
   ]
  },
  {
   "cell_type": "code",
   "execution_count": 154,
   "id": "4b0f4694",
   "metadata": {},
   "outputs": [],
   "source": [
    "testX['test_prediction']=FinalModel.predict(testX) # probability value"
   ]
  },
  {
   "cell_type": "code",
   "execution_count": 157,
   "id": "c2c4801e",
   "metadata": {},
   "outputs": [
    {
     "data": {
      "text/html": [
       "<div>\n",
       "<style scoped>\n",
       "    .dataframe tbody tr th:only-of-type {\n",
       "        vertical-align: middle;\n",
       "    }\n",
       "\n",
       "    .dataframe tbody tr th {\n",
       "        vertical-align: top;\n",
       "    }\n",
       "\n",
       "    .dataframe thead th {\n",
       "        text-align: right;\n",
       "    }\n",
       "</style>\n",
       "<table border=\"1\" class=\"dataframe\">\n",
       "  <thead>\n",
       "    <tr style=\"text-align: right;\">\n",
       "      <th></th>\n",
       "      <th>const</th>\n",
       "      <th>fnlwgt</th>\n",
       "      <th>sex</th>\n",
       "      <th>capital.gain</th>\n",
       "      <th>capital.loss</th>\n",
       "      <th>native.country</th>\n",
       "      <th>workclass_Self-emp-inc</th>\n",
       "      <th>workclass_Self-emp-not-inc</th>\n",
       "      <th>workclass_State-gov</th>\n",
       "      <th>education_Assoc-acdm</th>\n",
       "      <th>...</th>\n",
       "      <th>occupation_Protective-serv</th>\n",
       "      <th>occupation_Sales</th>\n",
       "      <th>occupation_Tech-support</th>\n",
       "      <th>relationship_Not-in-family</th>\n",
       "      <th>relationship_Other-relative</th>\n",
       "      <th>relationship_Own-child</th>\n",
       "      <th>relationship_Unmarried</th>\n",
       "      <th>relationship_Wife</th>\n",
       "      <th>race_Black</th>\n",
       "      <th>test_prediction</th>\n",
       "    </tr>\n",
       "  </thead>\n",
       "  <tbody>\n",
       "    <tr>\n",
       "      <th>4560</th>\n",
       "      <td>1.0</td>\n",
       "      <td>344991</td>\n",
       "      <td>0</td>\n",
       "      <td>0</td>\n",
       "      <td>0</td>\n",
       "      <td>0</td>\n",
       "      <td>0</td>\n",
       "      <td>0</td>\n",
       "      <td>0</td>\n",
       "      <td>0</td>\n",
       "      <td>...</td>\n",
       "      <td>0</td>\n",
       "      <td>0</td>\n",
       "      <td>0</td>\n",
       "      <td>0</td>\n",
       "      <td>0</td>\n",
       "      <td>0</td>\n",
       "      <td>0</td>\n",
       "      <td>0</td>\n",
       "      <td>0</td>\n",
       "      <td>0.344210</td>\n",
       "    </tr>\n",
       "    <tr>\n",
       "      <th>3737</th>\n",
       "      <td>1.0</td>\n",
       "      <td>186172</td>\n",
       "      <td>0</td>\n",
       "      <td>3103</td>\n",
       "      <td>0</td>\n",
       "      <td>0</td>\n",
       "      <td>0</td>\n",
       "      <td>0</td>\n",
       "      <td>0</td>\n",
       "      <td>0</td>\n",
       "      <td>...</td>\n",
       "      <td>0</td>\n",
       "      <td>0</td>\n",
       "      <td>0</td>\n",
       "      <td>0</td>\n",
       "      <td>0</td>\n",
       "      <td>0</td>\n",
       "      <td>0</td>\n",
       "      <td>0</td>\n",
       "      <td>0</td>\n",
       "      <td>0.815822</td>\n",
       "    </tr>\n",
       "    <tr>\n",
       "      <th>3144</th>\n",
       "      <td>1.0</td>\n",
       "      <td>193285</td>\n",
       "      <td>1</td>\n",
       "      <td>5013</td>\n",
       "      <td>0</td>\n",
       "      <td>0</td>\n",
       "      <td>0</td>\n",
       "      <td>0</td>\n",
       "      <td>0</td>\n",
       "      <td>0</td>\n",
       "      <td>...</td>\n",
       "      <td>0</td>\n",
       "      <td>0</td>\n",
       "      <td>0</td>\n",
       "      <td>0</td>\n",
       "      <td>0</td>\n",
       "      <td>0</td>\n",
       "      <td>0</td>\n",
       "      <td>1</td>\n",
       "      <td>1</td>\n",
       "      <td>0.441204</td>\n",
       "    </tr>\n",
       "    <tr>\n",
       "      <th>13755</th>\n",
       "      <td>1.0</td>\n",
       "      <td>190997</td>\n",
       "      <td>0</td>\n",
       "      <td>0</td>\n",
       "      <td>0</td>\n",
       "      <td>0</td>\n",
       "      <td>0</td>\n",
       "      <td>0</td>\n",
       "      <td>0</td>\n",
       "      <td>0</td>\n",
       "      <td>...</td>\n",
       "      <td>0</td>\n",
       "      <td>0</td>\n",
       "      <td>0</td>\n",
       "      <td>0</td>\n",
       "      <td>0</td>\n",
       "      <td>0</td>\n",
       "      <td>0</td>\n",
       "      <td>0</td>\n",
       "      <td>0</td>\n",
       "      <td>0.534431</td>\n",
       "    </tr>\n",
       "    <tr>\n",
       "      <th>10793</th>\n",
       "      <td>1.0</td>\n",
       "      <td>433491</td>\n",
       "      <td>0</td>\n",
       "      <td>0</td>\n",
       "      <td>0</td>\n",
       "      <td>0</td>\n",
       "      <td>0</td>\n",
       "      <td>0</td>\n",
       "      <td>0</td>\n",
       "      <td>0</td>\n",
       "      <td>...</td>\n",
       "      <td>0</td>\n",
       "      <td>0</td>\n",
       "      <td>0</td>\n",
       "      <td>0</td>\n",
       "      <td>0</td>\n",
       "      <td>1</td>\n",
       "      <td>0</td>\n",
       "      <td>0</td>\n",
       "      <td>0</td>\n",
       "      <td>0.005119</td>\n",
       "    </tr>\n",
       "  </tbody>\n",
       "</table>\n",
       "<p>5 rows × 35 columns</p>\n",
       "</div>"
      ],
      "text/plain": [
       "       const  fnlwgt  sex  capital.gain  capital.loss  native.country  \\\n",
       "4560     1.0  344991    0             0             0               0   \n",
       "3737     1.0  186172    0          3103             0               0   \n",
       "3144     1.0  193285    1          5013             0               0   \n",
       "13755    1.0  190997    0             0             0               0   \n",
       "10793    1.0  433491    0             0             0               0   \n",
       "\n",
       "       workclass_Self-emp-inc  workclass_Self-emp-not-inc  \\\n",
       "4560                        0                           0   \n",
       "3737                        0                           0   \n",
       "3144                        0                           0   \n",
       "13755                       0                           0   \n",
       "10793                       0                           0   \n",
       "\n",
       "       workclass_State-gov  education_Assoc-acdm  ...  \\\n",
       "4560                     0                     0  ...   \n",
       "3737                     0                     0  ...   \n",
       "3144                     0                     0  ...   \n",
       "13755                    0                     0  ...   \n",
       "10793                    0                     0  ...   \n",
       "\n",
       "       occupation_Protective-serv  occupation_Sales  occupation_Tech-support  \\\n",
       "4560                            0                 0                        0   \n",
       "3737                            0                 0                        0   \n",
       "3144                            0                 0                        0   \n",
       "13755                           0                 0                        0   \n",
       "10793                           0                 0                        0   \n",
       "\n",
       "       relationship_Not-in-family  relationship_Other-relative  \\\n",
       "4560                            0                            0   \n",
       "3737                            0                            0   \n",
       "3144                            0                            0   \n",
       "13755                           0                            0   \n",
       "10793                           0                            0   \n",
       "\n",
       "       relationship_Own-child  relationship_Unmarried  relationship_Wife  \\\n",
       "4560                        0                       0                  0   \n",
       "3737                        0                       0                  0   \n",
       "3144                        0                       0                  1   \n",
       "13755                       0                       0                  0   \n",
       "10793                       1                       0                  0   \n",
       "\n",
       "       race_Black  test_prediction  \n",
       "4560            0         0.344210  \n",
       "3737            0         0.815822  \n",
       "3144            1         0.441204  \n",
       "13755           0         0.534431  \n",
       "10793           0         0.005119  \n",
       "\n",
       "[5 rows x 35 columns]"
      ]
     },
     "execution_count": 157,
     "metadata": {},
     "output_type": "execute_result"
    }
   ],
   "source": [
    "testX.head()"
   ]
  },
  {
   "cell_type": "code",
   "execution_count": 158,
   "id": "9c8bc602",
   "metadata": {},
   "outputs": [],
   "source": [
    "# converting the prediction values in the class\n",
    "# 0.5 below then its 0 class\n",
    "# 0.05 more then its 1 class"
   ]
  },
  {
   "cell_type": "code",
   "execution_count": 159,
   "id": "f7083c42",
   "metadata": {},
   "outputs": [],
   "source": [
    "testX['class']=np.where(testX[\"test_prediction\"]>=0.5,1,0)"
   ]
  },
  {
   "cell_type": "code",
   "execution_count": 161,
   "id": "7776dba7",
   "metadata": {},
   "outputs": [
    {
     "data": {
      "text/html": [
       "<div>\n",
       "<style scoped>\n",
       "    .dataframe tbody tr th:only-of-type {\n",
       "        vertical-align: middle;\n",
       "    }\n",
       "\n",
       "    .dataframe tbody tr th {\n",
       "        vertical-align: top;\n",
       "    }\n",
       "\n",
       "    .dataframe thead th {\n",
       "        text-align: right;\n",
       "    }\n",
       "</style>\n",
       "<table border=\"1\" class=\"dataframe\">\n",
       "  <thead>\n",
       "    <tr style=\"text-align: right;\">\n",
       "      <th></th>\n",
       "      <th>const</th>\n",
       "      <th>fnlwgt</th>\n",
       "      <th>sex</th>\n",
       "      <th>capital.gain</th>\n",
       "      <th>capital.loss</th>\n",
       "      <th>native.country</th>\n",
       "      <th>workclass_Self-emp-inc</th>\n",
       "      <th>workclass_Self-emp-not-inc</th>\n",
       "      <th>workclass_State-gov</th>\n",
       "      <th>education_Assoc-acdm</th>\n",
       "      <th>...</th>\n",
       "      <th>occupation_Sales</th>\n",
       "      <th>occupation_Tech-support</th>\n",
       "      <th>relationship_Not-in-family</th>\n",
       "      <th>relationship_Other-relative</th>\n",
       "      <th>relationship_Own-child</th>\n",
       "      <th>relationship_Unmarried</th>\n",
       "      <th>relationship_Wife</th>\n",
       "      <th>race_Black</th>\n",
       "      <th>test_prediction</th>\n",
       "      <th>class</th>\n",
       "    </tr>\n",
       "  </thead>\n",
       "  <tbody>\n",
       "    <tr>\n",
       "      <th>4560</th>\n",
       "      <td>1.0</td>\n",
       "      <td>344991</td>\n",
       "      <td>0</td>\n",
       "      <td>0</td>\n",
       "      <td>0</td>\n",
       "      <td>0</td>\n",
       "      <td>0</td>\n",
       "      <td>0</td>\n",
       "      <td>0</td>\n",
       "      <td>0</td>\n",
       "      <td>...</td>\n",
       "      <td>0</td>\n",
       "      <td>0</td>\n",
       "      <td>0</td>\n",
       "      <td>0</td>\n",
       "      <td>0</td>\n",
       "      <td>0</td>\n",
       "      <td>0</td>\n",
       "      <td>0</td>\n",
       "      <td>0.344210</td>\n",
       "      <td>0</td>\n",
       "    </tr>\n",
       "    <tr>\n",
       "      <th>3737</th>\n",
       "      <td>1.0</td>\n",
       "      <td>186172</td>\n",
       "      <td>0</td>\n",
       "      <td>3103</td>\n",
       "      <td>0</td>\n",
       "      <td>0</td>\n",
       "      <td>0</td>\n",
       "      <td>0</td>\n",
       "      <td>0</td>\n",
       "      <td>0</td>\n",
       "      <td>...</td>\n",
       "      <td>0</td>\n",
       "      <td>0</td>\n",
       "      <td>0</td>\n",
       "      <td>0</td>\n",
       "      <td>0</td>\n",
       "      <td>0</td>\n",
       "      <td>0</td>\n",
       "      <td>0</td>\n",
       "      <td>0.815822</td>\n",
       "      <td>1</td>\n",
       "    </tr>\n",
       "    <tr>\n",
       "      <th>3144</th>\n",
       "      <td>1.0</td>\n",
       "      <td>193285</td>\n",
       "      <td>1</td>\n",
       "      <td>5013</td>\n",
       "      <td>0</td>\n",
       "      <td>0</td>\n",
       "      <td>0</td>\n",
       "      <td>0</td>\n",
       "      <td>0</td>\n",
       "      <td>0</td>\n",
       "      <td>...</td>\n",
       "      <td>0</td>\n",
       "      <td>0</td>\n",
       "      <td>0</td>\n",
       "      <td>0</td>\n",
       "      <td>0</td>\n",
       "      <td>0</td>\n",
       "      <td>1</td>\n",
       "      <td>1</td>\n",
       "      <td>0.441204</td>\n",
       "      <td>0</td>\n",
       "    </tr>\n",
       "    <tr>\n",
       "      <th>13755</th>\n",
       "      <td>1.0</td>\n",
       "      <td>190997</td>\n",
       "      <td>0</td>\n",
       "      <td>0</td>\n",
       "      <td>0</td>\n",
       "      <td>0</td>\n",
       "      <td>0</td>\n",
       "      <td>0</td>\n",
       "      <td>0</td>\n",
       "      <td>0</td>\n",
       "      <td>...</td>\n",
       "      <td>0</td>\n",
       "      <td>0</td>\n",
       "      <td>0</td>\n",
       "      <td>0</td>\n",
       "      <td>0</td>\n",
       "      <td>0</td>\n",
       "      <td>0</td>\n",
       "      <td>0</td>\n",
       "      <td>0.534431</td>\n",
       "      <td>1</td>\n",
       "    </tr>\n",
       "    <tr>\n",
       "      <th>10793</th>\n",
       "      <td>1.0</td>\n",
       "      <td>433491</td>\n",
       "      <td>0</td>\n",
       "      <td>0</td>\n",
       "      <td>0</td>\n",
       "      <td>0</td>\n",
       "      <td>0</td>\n",
       "      <td>0</td>\n",
       "      <td>0</td>\n",
       "      <td>0</td>\n",
       "      <td>...</td>\n",
       "      <td>0</td>\n",
       "      <td>0</td>\n",
       "      <td>0</td>\n",
       "      <td>0</td>\n",
       "      <td>1</td>\n",
       "      <td>0</td>\n",
       "      <td>0</td>\n",
       "      <td>0</td>\n",
       "      <td>0.005119</td>\n",
       "      <td>0</td>\n",
       "    </tr>\n",
       "  </tbody>\n",
       "</table>\n",
       "<p>5 rows × 36 columns</p>\n",
       "</div>"
      ],
      "text/plain": [
       "       const  fnlwgt  sex  capital.gain  capital.loss  native.country  \\\n",
       "4560     1.0  344991    0             0             0               0   \n",
       "3737     1.0  186172    0          3103             0               0   \n",
       "3144     1.0  193285    1          5013             0               0   \n",
       "13755    1.0  190997    0             0             0               0   \n",
       "10793    1.0  433491    0             0             0               0   \n",
       "\n",
       "       workclass_Self-emp-inc  workclass_Self-emp-not-inc  \\\n",
       "4560                        0                           0   \n",
       "3737                        0                           0   \n",
       "3144                        0                           0   \n",
       "13755                       0                           0   \n",
       "10793                       0                           0   \n",
       "\n",
       "       workclass_State-gov  education_Assoc-acdm  ...  occupation_Sales  \\\n",
       "4560                     0                     0  ...                 0   \n",
       "3737                     0                     0  ...                 0   \n",
       "3144                     0                     0  ...                 0   \n",
       "13755                    0                     0  ...                 0   \n",
       "10793                    0                     0  ...                 0   \n",
       "\n",
       "       occupation_Tech-support  relationship_Not-in-family  \\\n",
       "4560                         0                           0   \n",
       "3737                         0                           0   \n",
       "3144                         0                           0   \n",
       "13755                        0                           0   \n",
       "10793                        0                           0   \n",
       "\n",
       "       relationship_Other-relative  relationship_Own-child  \\\n",
       "4560                             0                       0   \n",
       "3737                             0                       0   \n",
       "3144                             0                       0   \n",
       "13755                            0                       0   \n",
       "10793                            0                       1   \n",
       "\n",
       "       relationship_Unmarried  relationship_Wife  race_Black  test_prediction  \\\n",
       "4560                        0                  0           0         0.344210   \n",
       "3737                        0                  0           0         0.815822   \n",
       "3144                        0                  1           1         0.441204   \n",
       "13755                       0                  0           0         0.534431   \n",
       "10793                       0                  0           0         0.005119   \n",
       "\n",
       "       class  \n",
       "4560       0  \n",
       "3737       1  \n",
       "3144       0  \n",
       "13755      1  \n",
       "10793      0  \n",
       "\n",
       "[5 rows x 36 columns]"
      ]
     },
     "execution_count": 161,
     "metadata": {},
     "output_type": "execute_result"
    }
   ],
   "source": [
    "testX.head()"
   ]
  },
  {
   "cell_type": "code",
   "execution_count": 162,
   "id": "0e814199",
   "metadata": {},
   "outputs": [],
   "source": [
    "# Model Evaluation"
   ]
  },
  {
   "cell_type": "code",
   "execution_count": 163,
   "id": "5576ca30",
   "metadata": {},
   "outputs": [],
   "source": [
    "from sklearn.metrics import confusion_matrix,classification_report"
   ]
  },
  {
   "cell_type": "code",
   "execution_count": 164,
   "id": "21a6a1d6",
   "metadata": {},
   "outputs": [
    {
     "data": {
      "text/plain": [
       "array([[6949,  491],\n",
       "       [ 965, 1364]], dtype=int64)"
      ]
     },
     "execution_count": 164,
     "metadata": {},
     "output_type": "execute_result"
    }
   ],
   "source": [
    "confusion_matrix(testY,testX['class']) # first write True value=(testY), then write "
   ]
  },
  {
   "cell_type": "code",
   "execution_count": 165,
   "id": "65da12a4",
   "metadata": {},
   "outputs": [],
   "source": [
    "# prediction is=(testX['class])"
   ]
  },
  {
   "cell_type": "code",
   "execution_count": 166,
   "id": "a23b68c1",
   "metadata": {},
   "outputs": [
    {
     "name": "stdout",
     "output_type": "stream",
     "text": [
      "              precision    recall  f1-score   support\n",
      "\n",
      "           0       0.88      0.93      0.91      7440\n",
      "           1       0.74      0.59      0.65      2329\n",
      "\n",
      "    accuracy                           0.85      9769\n",
      "   macro avg       0.81      0.76      0.78      9769\n",
      "weighted avg       0.84      0.85      0.84      9769\n",
      "\n"
     ]
    }
   ],
   "source": [
    "print(classification_report(testY,testX[\"class\"]))"
   ]
  },
  {
   "cell_type": "code",
   "execution_count": null,
   "id": "25f9f1b6",
   "metadata": {},
   "outputs": [],
   "source": [
    "#  WE ARE APPLYING LOGISTIC REGRESSION MODEL AND MODEL ACCURACY  IS 85% ."
   ]
  }
 ],
 "metadata": {
  "kernelspec": {
   "display_name": "Python 3 (ipykernel)",
   "language": "python",
   "name": "python3"
  },
  "language_info": {
   "codemirror_mode": {
    "name": "ipython",
    "version": 3
   },
   "file_extension": ".py",
   "mimetype": "text/x-python",
   "name": "python",
   "nbconvert_exporter": "python",
   "pygments_lexer": "ipython3",
   "version": "3.9.13"
  }
 },
 "nbformat": 4,
 "nbformat_minor": 5
}
